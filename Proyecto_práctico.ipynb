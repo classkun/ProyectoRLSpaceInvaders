{
  "cells": [
    {
      "cell_type": "markdown",
      "source": [
        "# Actividad - Proyecto práctico\n",
        "\n",
        "\n",
        "> La actividad se desarrollará en grupos pre-definidos de 2-3 alumnos. Se debe indicar los nombres en orden alfabético (de apellidos). Recordad que esta actividad se corresponde con un 30% de la nota final de la asignatura. Se debe entregar entregar el trabajo en la presente notebook.\n",
        "*   Alumno 1:Alejandro Andres Velasco Santinato\n",
        "*   Alumno 2:Daniela Leal Rivero\n",
        "*   Alumno 3:\n",
        "\n",
        "\n",
        "\n",
        "\n"
      ],
      "metadata": {
        "id": "jUehXgCyIRdq"
      }
    },
    {
      "cell_type": "markdown",
      "source": [
        "---\n",
        "## **PARTE 1** - Instalación y requisitos previos\n",
        "\n",
        "> Las prácticas han sido preparadas para poder realizarse en el entorno de trabajo de Google Colab. Sin embargo, esta plataforma presenta ciertas incompatibilidades a la hora de visualizar la renderización en gym. Por ello, para obtener estas visualizaciones, se deberá trasladar el entorno de trabajo a local. Por ello, el presente dosier presenta instrucciones para poder trabajar en ambos entornos. Siga los siguientes pasos para un correcto funcionamiento:\n",
        "1.   **LOCAL:** Preparar el enviroment, siguiendo las intrucciones detalladas en la sección *1.1.Preparar enviroment*.\n",
        "2.  **AMBOS:** Modificar las variables \"mount\" y \"drive_mount\" a la carpeta de trabajo en drive en el caso de estar en Colab, y ejecturar la celda *1.2.Localizar entorno de trabajo*.\n",
        "3. **COLAB:** se deberá ejecutar las celdas correspondientes al montaje de la carpeta de trabajo en Drive. Esta corresponde a la sección *1.3.Montar carpeta de datos local*.\n",
        "4.  **AMBOS:** Instalar las librerías necesarias, siguiendo la sección *1.4.Instalar librerías necesarias*.\n"
      ],
      "metadata": {
        "id": "JwpYlnjWJhS9"
      }
    },
    {
      "cell_type": "markdown",
      "source": [
        "---\n",
        "### 1.1. Preparar enviroment (solo local)\n",
        "\n",
        "\n",
        "\n",
        "> Para preparar el entorno de trabajo en local, se han seguido los siguientes pasos:\n",
        "1. En Windows, puede ser necesario instalar las C++ Build Tools. Para ello, siga los siguientes pasos: https://towardsdatascience.com/how-to-install-openai-gym-in-a-windows-environment-338969e24d30.\n",
        "2. Instalar Anaconda\n",
        "3. Siguiendo el código que se presenta comentado en la próxima celda: Crear un enviroment, cambiar la ruta de trabajo, e instalar librerías básicas.\n",
        "\n",
        "\n",
        "```\n",
        "conda create --name miar_rl python=3.8\n",
        "conda activate miar_rl\n",
        "cd \"PATH_TO_FOLDER\"\n",
        "conda install git\n",
        "pip install jupyter\n",
        "```\n",
        "\n",
        "\n",
        "4. Abrir la notebook con *jupyter-notebook*.\n",
        "\n",
        "\n",
        "\n",
        "```\n",
        "jupyter-notebook\n",
        "```\n"
      ],
      "metadata": {
        "id": "RU2BPrK2JkP0"
      }
    },
    {
      "cell_type": "markdown",
      "source": [
        "---\n",
        "### 1.2. Localizar entorno de trabajo: Google colab o local"
      ],
      "metadata": {
        "id": "w-kixNPiJqTc"
      }
    },
    {
      "cell_type": "code",
      "source": [
        "# ATENCIÓN!! Modificar ruta relativa a la práctica si es distinta (drive_root)\n",
        "mount='/content/gdrive'\n",
        "drive_root = mount + \"/My Drive/08_MIAR/actividades/proyecto practico\"\n",
        "\n",
        "try:\n",
        "  from google.colab import drive\n",
        "  IN_COLAB=True\n",
        "except:\n",
        "  IN_COLAB=False"
      ],
      "metadata": {
        "id": "S_YDFwZ-JscI"
      },
      "execution_count": 1,
      "outputs": []
    },
    {
      "cell_type": "markdown",
      "source": [
        "---\n",
        "### 1.3. Montar carpeta de datos local (solo Colab)"
      ],
      "metadata": {
        "id": "8Dp_a1iBJ0tf"
      }
    },
    {
      "cell_type": "code",
      "source": [
        "# Switch to the directory on the Google Drive that you want to use\n",
        "import os\n",
        "if IN_COLAB:\n",
        "  print(\"We're running Colab\")\n",
        "\n",
        "  if IN_COLAB:\n",
        "    # Mount the Google Drive at mount\n",
        "    print(\"Colab: mounting Google drive on \", mount)\n",
        "\n",
        "    drive.mount(mount)\n",
        "\n",
        "    # Create drive_root if it doesn't exist\n",
        "    create_drive_root = True\n",
        "    if create_drive_root:\n",
        "      print(\"\\nColab: making sure \", drive_root, \" exists.\")\n",
        "      os.makedirs(drive_root, exist_ok=True)\n",
        "\n",
        "    # Change to the directory\n",
        "    print(\"\\nColab: Changing directory to \", drive_root)\n",
        "    %cd $drive_root\n",
        "# Verify we're in the correct working directory\n",
        "%pwd\n",
        "print(\"Archivos en el directorio: \")\n",
        "print(os.listdir())"
      ],
      "metadata": {
        "id": "I6n7MIefJ21i",
        "colab": {
          "base_uri": "https://localhost:8080/"
        },
        "outputId": "eec5e3eb-7caa-4670-e7ea-cf2cdb06b2ec"
      },
      "execution_count": 2,
      "outputs": [
        {
          "output_type": "stream",
          "name": "stdout",
          "text": [
            "We're running Colab\n",
            "Colab: mounting Google drive on  /content/gdrive\n",
            "Drive already mounted at /content/gdrive; to attempt to forcibly remount, call drive.mount(\"/content/gdrive\", force_remount=True).\n",
            "\n",
            "Colab: making sure  /content/gdrive/My Drive/08_MIAR/actividades/proyecto practico  exists.\n",
            "\n",
            "Colab: Changing directory to  /content/gdrive/My Drive/08_MIAR/actividades/proyecto practico\n",
            "/content/gdrive/My Drive/08_MIAR/actividades/proyecto practico\n",
            "Archivos en el directorio: \n",
            "['checkpoints', 'dqn_SpaceInvaders-v0_log.json', 'dqn_SpaceInvaders-v0_final_weights.h5f.index', 'dqn_SpaceInvaders-v0_final_weights.h5f.data-00000-of-00001', 'checkpoint', 'dqn_{}_450000_log.json', 'Copia de dqn_SpaceInvaders-v0_weights_base_450000600000.h5f.data-00000-of-00001', 'Copia de dqn_SpaceInvaders-v0_weights_base_450000600000.h5f.index']\n"
          ]
        }
      ]
    },
    {
      "cell_type": "markdown",
      "source": [
        "---\n",
        "### 1.4. Instalar librerías necesarias"
      ],
      "metadata": {
        "id": "i1ZSL5bpJ560"
      }
    },
    {
      "cell_type": "markdown",
      "source": [
        "NOTA: esto es un fix para colab hay que ejecutarlo y cuando pida reiniciar el entorno se reinicia, despues de reiniciarlo simplemente ejecuten lo demas y deje esto como esta"
      ],
      "metadata": {
        "id": "Uqj5nzwyA5V6"
      }
    },
    {
      "cell_type": "code",
      "source": [
        "\n",
        "if IN_COLAB:\n",
        "  !pip uninstall tensorflow -y\n",
        "  !pip install tensorflow==2.15"
      ],
      "metadata": {
        "colab": {
          "base_uri": "https://localhost:8080/",
          "height": 1000
        },
        "id": "yfU60tn_1kob",
        "outputId": "5cbdc821-b985-4889-e8d3-abac3bfc3011"
      },
      "execution_count": 4,
      "outputs": [
        {
          "output_type": "stream",
          "name": "stdout",
          "text": [
            "Found existing installation: tensorflow 2.18.0\n",
            "Uninstalling tensorflow-2.18.0:\n",
            "  Successfully uninstalled tensorflow-2.18.0\n",
            "Collecting tensorflow==2.15\n",
            "  Downloading tensorflow-2.15.0-cp311-cp311-manylinux_2_17_x86_64.manylinux2014_x86_64.whl.metadata (4.4 kB)\n",
            "Requirement already satisfied: absl-py>=1.0.0 in /usr/local/lib/python3.11/dist-packages (from tensorflow==2.15) (1.4.0)\n",
            "Requirement already satisfied: astunparse>=1.6.0 in /usr/local/lib/python3.11/dist-packages (from tensorflow==2.15) (1.6.3)\n",
            "Requirement already satisfied: flatbuffers>=23.5.26 in /usr/local/lib/python3.11/dist-packages (from tensorflow==2.15) (25.2.10)\n",
            "Requirement already satisfied: gast!=0.5.0,!=0.5.1,!=0.5.2,>=0.2.1 in /usr/local/lib/python3.11/dist-packages (from tensorflow==2.15) (0.6.0)\n",
            "Requirement already satisfied: google-pasta>=0.1.1 in /usr/local/lib/python3.11/dist-packages (from tensorflow==2.15) (0.2.0)\n",
            "Requirement already satisfied: h5py>=2.9.0 in /usr/local/lib/python3.11/dist-packages (from tensorflow==2.15) (3.13.0)\n",
            "Requirement already satisfied: libclang>=13.0.0 in /usr/local/lib/python3.11/dist-packages (from tensorflow==2.15) (18.1.1)\n",
            "Collecting ml-dtypes~=0.2.0 (from tensorflow==2.15)\n",
            "  Downloading ml_dtypes-0.2.0-cp311-cp311-manylinux_2_17_x86_64.manylinux2014_x86_64.whl.metadata (20 kB)\n",
            "Collecting numpy<2.0.0,>=1.23.5 (from tensorflow==2.15)\n",
            "  Downloading numpy-1.26.4-cp311-cp311-manylinux_2_17_x86_64.manylinux2014_x86_64.whl.metadata (61 kB)\n",
            "\u001b[2K     \u001b[90m━━━━━━━━━━━━━━━━━━━━━━━━━━━━━━━━━━━━━━━━\u001b[0m \u001b[32m61.0/61.0 kB\u001b[0m \u001b[31m2.7 MB/s\u001b[0m eta \u001b[36m0:00:00\u001b[0m\n",
            "\u001b[?25hRequirement already satisfied: opt-einsum>=2.3.2 in /usr/local/lib/python3.11/dist-packages (from tensorflow==2.15) (3.4.0)\n",
            "Requirement already satisfied: packaging in /usr/local/lib/python3.11/dist-packages (from tensorflow==2.15) (24.2)\n",
            "Collecting protobuf!=4.21.0,!=4.21.1,!=4.21.2,!=4.21.3,!=4.21.4,!=4.21.5,<5.0.0dev,>=3.20.3 (from tensorflow==2.15)\n",
            "  Downloading protobuf-4.25.8-cp37-abi3-manylinux2014_x86_64.whl.metadata (541 bytes)\n",
            "Requirement already satisfied: setuptools in /usr/local/lib/python3.11/dist-packages (from tensorflow==2.15) (75.2.0)\n",
            "Requirement already satisfied: six>=1.12.0 in /usr/local/lib/python3.11/dist-packages (from tensorflow==2.15) (1.17.0)\n",
            "Requirement already satisfied: termcolor>=1.1.0 in /usr/local/lib/python3.11/dist-packages (from tensorflow==2.15) (3.1.0)\n",
            "Requirement already satisfied: typing-extensions>=3.6.6 in /usr/local/lib/python3.11/dist-packages (from tensorflow==2.15) (4.14.0)\n",
            "Collecting wrapt<1.15,>=1.11.0 (from tensorflow==2.15)\n",
            "  Downloading wrapt-1.14.1-cp311-cp311-manylinux_2_5_x86_64.manylinux1_x86_64.manylinux_2_17_x86_64.manylinux2014_x86_64.whl.metadata (6.7 kB)\n",
            "Requirement already satisfied: tensorflow-io-gcs-filesystem>=0.23.1 in /usr/local/lib/python3.11/dist-packages (from tensorflow==2.15) (0.37.1)\n",
            "Requirement already satisfied: grpcio<2.0,>=1.24.3 in /usr/local/lib/python3.11/dist-packages (from tensorflow==2.15) (1.72.1)\n",
            "Collecting tensorboard<2.16,>=2.15 (from tensorflow==2.15)\n",
            "  Downloading tensorboard-2.15.2-py3-none-any.whl.metadata (1.7 kB)\n",
            "Collecting tensorflow-estimator<2.16,>=2.15.0 (from tensorflow==2.15)\n",
            "  Downloading tensorflow_estimator-2.15.0-py2.py3-none-any.whl.metadata (1.3 kB)\n",
            "Collecting keras<2.16,>=2.15.0 (from tensorflow==2.15)\n",
            "  Downloading keras-2.15.0-py3-none-any.whl.metadata (2.4 kB)\n",
            "Requirement already satisfied: wheel<1.0,>=0.23.0 in /usr/local/lib/python3.11/dist-packages (from astunparse>=1.6.0->tensorflow==2.15) (0.45.1)\n",
            "Requirement already satisfied: google-auth<3,>=1.6.3 in /usr/local/lib/python3.11/dist-packages (from tensorboard<2.16,>=2.15->tensorflow==2.15) (2.38.0)\n",
            "Requirement already satisfied: google-auth-oauthlib<2,>=0.5 in /usr/local/lib/python3.11/dist-packages (from tensorboard<2.16,>=2.15->tensorflow==2.15) (1.2.2)\n",
            "Requirement already satisfied: markdown>=2.6.8 in /usr/local/lib/python3.11/dist-packages (from tensorboard<2.16,>=2.15->tensorflow==2.15) (3.8)\n",
            "Requirement already satisfied: requests<3,>=2.21.0 in /usr/local/lib/python3.11/dist-packages (from tensorboard<2.16,>=2.15->tensorflow==2.15) (2.32.3)\n",
            "Requirement already satisfied: tensorboard-data-server<0.8.0,>=0.7.0 in /usr/local/lib/python3.11/dist-packages (from tensorboard<2.16,>=2.15->tensorflow==2.15) (0.7.2)\n",
            "Requirement already satisfied: werkzeug>=1.0.1 in /usr/local/lib/python3.11/dist-packages (from tensorboard<2.16,>=2.15->tensorflow==2.15) (3.1.3)\n",
            "Requirement already satisfied: cachetools<6.0,>=2.0.0 in /usr/local/lib/python3.11/dist-packages (from google-auth<3,>=1.6.3->tensorboard<2.16,>=2.15->tensorflow==2.15) (5.5.2)\n",
            "Requirement already satisfied: pyasn1-modules>=0.2.1 in /usr/local/lib/python3.11/dist-packages (from google-auth<3,>=1.6.3->tensorboard<2.16,>=2.15->tensorflow==2.15) (0.4.2)\n",
            "Requirement already satisfied: rsa<5,>=3.1.4 in /usr/local/lib/python3.11/dist-packages (from google-auth<3,>=1.6.3->tensorboard<2.16,>=2.15->tensorflow==2.15) (4.9.1)\n",
            "Requirement already satisfied: requests-oauthlib>=0.7.0 in /usr/local/lib/python3.11/dist-packages (from google-auth-oauthlib<2,>=0.5->tensorboard<2.16,>=2.15->tensorflow==2.15) (2.0.0)\n",
            "Requirement already satisfied: charset-normalizer<4,>=2 in /usr/local/lib/python3.11/dist-packages (from requests<3,>=2.21.0->tensorboard<2.16,>=2.15->tensorflow==2.15) (3.4.2)\n",
            "Requirement already satisfied: idna<4,>=2.5 in /usr/local/lib/python3.11/dist-packages (from requests<3,>=2.21.0->tensorboard<2.16,>=2.15->tensorflow==2.15) (3.10)\n",
            "Requirement already satisfied: urllib3<3,>=1.21.1 in /usr/local/lib/python3.11/dist-packages (from requests<3,>=2.21.0->tensorboard<2.16,>=2.15->tensorflow==2.15) (2.4.0)\n",
            "Requirement already satisfied: certifi>=2017.4.17 in /usr/local/lib/python3.11/dist-packages (from requests<3,>=2.21.0->tensorboard<2.16,>=2.15->tensorflow==2.15) (2025.4.26)\n",
            "Requirement already satisfied: MarkupSafe>=2.1.1 in /usr/local/lib/python3.11/dist-packages (from werkzeug>=1.0.1->tensorboard<2.16,>=2.15->tensorflow==2.15) (3.0.2)\n",
            "Requirement already satisfied: pyasn1<0.7.0,>=0.6.1 in /usr/local/lib/python3.11/dist-packages (from pyasn1-modules>=0.2.1->google-auth<3,>=1.6.3->tensorboard<2.16,>=2.15->tensorflow==2.15) (0.6.1)\n",
            "Requirement already satisfied: oauthlib>=3.0.0 in /usr/local/lib/python3.11/dist-packages (from requests-oauthlib>=0.7.0->google-auth-oauthlib<2,>=0.5->tensorboard<2.16,>=2.15->tensorflow==2.15) (3.2.2)\n",
            "Downloading tensorflow-2.15.0-cp311-cp311-manylinux_2_17_x86_64.manylinux2014_x86_64.whl (475.3 MB)\n",
            "\u001b[2K   \u001b[90m━━━━━━━━━━━━━━━━━━━━━━━━━━━━━━━━━━━━━━━━\u001b[0m \u001b[32m475.3/475.3 MB\u001b[0m \u001b[31m3.8 MB/s\u001b[0m eta \u001b[36m0:00:00\u001b[0m\n",
            "\u001b[?25hDownloading keras-2.15.0-py3-none-any.whl (1.7 MB)\n",
            "\u001b[2K   \u001b[90m━━━━━━━━━━━━━━━━━━━━━━━━━━━━━━━━━━━━━━━━\u001b[0m \u001b[32m1.7/1.7 MB\u001b[0m \u001b[31m58.8 MB/s\u001b[0m eta \u001b[36m0:00:00\u001b[0m\n",
            "\u001b[?25hDownloading ml_dtypes-0.2.0-cp311-cp311-manylinux_2_17_x86_64.manylinux2014_x86_64.whl (1.0 MB)\n",
            "\u001b[2K   \u001b[90m━━━━━━━━━━━━━━━━━━━━━━━━━━━━━━━━━━━━━━━━\u001b[0m \u001b[32m1.0/1.0 MB\u001b[0m \u001b[31m49.2 MB/s\u001b[0m eta \u001b[36m0:00:00\u001b[0m\n",
            "\u001b[?25hDownloading numpy-1.26.4-cp311-cp311-manylinux_2_17_x86_64.manylinux2014_x86_64.whl (18.3 MB)\n",
            "\u001b[2K   \u001b[90m━━━━━━━━━━━━━━━━━━━━━━━━━━━━━━━━━━━━━━━━\u001b[0m \u001b[32m18.3/18.3 MB\u001b[0m \u001b[31m81.9 MB/s\u001b[0m eta \u001b[36m0:00:00\u001b[0m\n",
            "\u001b[?25hDownloading protobuf-4.25.8-cp37-abi3-manylinux2014_x86_64.whl (294 kB)\n",
            "\u001b[2K   \u001b[90m━━━━━━━━━━━━━━━━━━━━━━━━━━━━━━━━━━━━━━━━\u001b[0m \u001b[32m294.9/294.9 kB\u001b[0m \u001b[31m19.0 MB/s\u001b[0m eta \u001b[36m0:00:00\u001b[0m\n",
            "\u001b[?25hDownloading tensorboard-2.15.2-py3-none-any.whl (5.5 MB)\n",
            "\u001b[2K   \u001b[90m━━━━━━━━━━━━━━━━━━━━━━━━━━━━━━━━━━━━━━━━\u001b[0m \u001b[32m5.5/5.5 MB\u001b[0m \u001b[31m104.7 MB/s\u001b[0m eta \u001b[36m0:00:00\u001b[0m\n",
            "\u001b[?25hDownloading tensorflow_estimator-2.15.0-py2.py3-none-any.whl (441 kB)\n",
            "\u001b[2K   \u001b[90m━━━━━━━━━━━━━━━━━━━━━━━━━━━━━━━━━━━━━━━━\u001b[0m \u001b[32m442.0/442.0 kB\u001b[0m \u001b[31m31.8 MB/s\u001b[0m eta \u001b[36m0:00:00\u001b[0m\n",
            "\u001b[?25hDownloading wrapt-1.14.1-cp311-cp311-manylinux_2_5_x86_64.manylinux1_x86_64.manylinux_2_17_x86_64.manylinux2014_x86_64.whl (78 kB)\n",
            "\u001b[2K   \u001b[90m━━━━━━━━━━━━━━━━━━━━━━━━━━━━━━━━━━━━━━━━\u001b[0m \u001b[32m78.4/78.4 kB\u001b[0m \u001b[31m6.2 MB/s\u001b[0m eta \u001b[36m0:00:00\u001b[0m\n",
            "\u001b[?25hInstalling collected packages: wrapt, tensorflow-estimator, protobuf, numpy, keras, ml-dtypes, tensorboard, tensorflow\n",
            "  Attempting uninstall: wrapt\n",
            "    Found existing installation: wrapt 1.17.2\n",
            "    Uninstalling wrapt-1.17.2:\n",
            "      Successfully uninstalled wrapt-1.17.2\n",
            "  Attempting uninstall: protobuf\n",
            "    Found existing installation: protobuf 5.29.5\n",
            "    Uninstalling protobuf-5.29.5:\n",
            "      Successfully uninstalled protobuf-5.29.5\n",
            "  Attempting uninstall: numpy\n",
            "    Found existing installation: numpy 2.0.2\n",
            "    Uninstalling numpy-2.0.2:\n",
            "      Successfully uninstalled numpy-2.0.2\n",
            "  Attempting uninstall: keras\n",
            "    Found existing installation: keras 3.8.0\n",
            "    Uninstalling keras-3.8.0:\n",
            "      Successfully uninstalled keras-3.8.0\n",
            "  Attempting uninstall: ml-dtypes\n",
            "    Found existing installation: ml-dtypes 0.4.1\n",
            "    Uninstalling ml-dtypes-0.4.1:\n",
            "      Successfully uninstalled ml-dtypes-0.4.1\n",
            "  Attempting uninstall: tensorboard\n",
            "    Found existing installation: tensorboard 2.18.0\n",
            "    Uninstalling tensorboard-2.18.0:\n",
            "      Successfully uninstalled tensorboard-2.18.0\n",
            "\u001b[31mERROR: pip's dependency resolver does not currently take into account all the packages that are installed. This behaviour is the source of the following dependency conflicts.\n",
            "tensorflow-decision-forests 1.11.0 requires tensorflow==2.18.0, but you have tensorflow 2.15.0 which is incompatible.\n",
            "grpcio-status 1.71.0 requires protobuf<6.0dev,>=5.26.1, but you have protobuf 4.25.8 which is incompatible.\n",
            "tensorstore 0.1.74 requires ml_dtypes>=0.3.1, but you have ml-dtypes 0.2.0 which is incompatible.\n",
            "tensorflow-text 2.18.1 requires tensorflow<2.19,>=2.18.0, but you have tensorflow 2.15.0 which is incompatible.\n",
            "thinc 8.3.6 requires numpy<3.0.0,>=2.0.0, but you have numpy 1.26.4 which is incompatible.\n",
            "tf-keras 2.18.0 requires tensorflow<2.19,>=2.18, but you have tensorflow 2.15.0 which is incompatible.\n",
            "ydf 0.12.0 requires protobuf<6.0.0,>=5.29.1, but you have protobuf 4.25.8 which is incompatible.\n",
            "jax 0.5.2 requires ml_dtypes>=0.4.0, but you have ml-dtypes 0.2.0 which is incompatible.\u001b[0m\u001b[31m\n",
            "\u001b[0mSuccessfully installed keras-2.15.0 ml-dtypes-0.2.0 numpy-1.26.4 protobuf-4.25.8 tensorboard-2.15.2 tensorflow-2.15.0 tensorflow-estimator-2.15.0 wrapt-1.14.1\n"
          ]
        },
        {
          "output_type": "display_data",
          "data": {
            "application/vnd.colab-display-data+json": {
              "pip_warning": {
                "packages": [
                  "google",
                  "keras",
                  "ml_dtypes",
                  "numpy",
                  "tensorflow",
                  "wrapt"
                ]
              },
              "id": "26f85d0484c045afa4b97428625a8370"
            }
          },
          "metadata": {}
        }
      ]
    },
    {
      "cell_type": "code",
      "source": [
        "if IN_COLAB:\n",
        "  %pip install gym==0.17.3\n",
        "  %pip install git+https://github.com/Kojoley/atari-py.git\n",
        "  %pip install keras-rl2==1.0.5\n",
        "\n",
        "else:\n",
        "  %pip install gym==0.17.3\n",
        "  %pip install git+https://github.com/Kojoley/atari-py.git\n",
        "  %pip install pyglet==1.5.0\n",
        "  %pip install h5py==3.1.0\n",
        "  %pip install Pillow==9.5.0\n",
        "  %pip install keras-rl2==1.0.5\n",
        "  %pip install Keras==2.2.4\n",
        "  %pip install tensorflow==2.5.3\n",
        "  %pip install torch==2.0.1\n",
        "  %pip install agents==1.4.0"
      ],
      "metadata": {
        "id": "UbVRjvHCJ8UF",
        "colab": {
          "base_uri": "https://localhost:8080/"
        },
        "outputId": "fedac445-c497-4e5a-f832-ecd1c021a348"
      },
      "execution_count": 3,
      "outputs": [
        {
          "output_type": "stream",
          "name": "stdout",
          "text": [
            "Collecting gym==0.17.3\n",
            "  Downloading gym-0.17.3.tar.gz (1.6 MB)\n",
            "\u001b[?25l     \u001b[90m━━━━━━━━━━━━━━━━━━━━━━━━━━━━━━━━━━━━━━━━\u001b[0m \u001b[32m0.0/1.6 MB\u001b[0m \u001b[31m?\u001b[0m eta \u001b[36m-:--:--\u001b[0m\r\u001b[2K     \u001b[91m━━━━━\u001b[0m\u001b[91m╸\u001b[0m\u001b[90m━━━━━━━━━━━━━━━━━━━━━━━━━━━━━━━━━━\u001b[0m \u001b[32m0.2/1.6 MB\u001b[0m \u001b[31m6.7 MB/s\u001b[0m eta \u001b[36m0:00:01\u001b[0m\r\u001b[2K     \u001b[91m━━━━━━━━━━━━━━━━━━━━━━━━━━━━━━━━━━━━━━━\u001b[0m\u001b[91m╸\u001b[0m \u001b[32m1.6/1.6 MB\u001b[0m \u001b[31m22.7 MB/s\u001b[0m eta \u001b[36m0:00:01\u001b[0m\r\u001b[2K     \u001b[90m━━━━━━━━━━━━━━━━━━━━━━━━━━━━━━━━━━━━━━━━\u001b[0m \u001b[32m1.6/1.6 MB\u001b[0m \u001b[31m17.3 MB/s\u001b[0m eta \u001b[36m0:00:00\u001b[0m\n",
            "\u001b[?25h  Preparing metadata (setup.py) ... \u001b[?25l\u001b[?25hdone\n",
            "Requirement already satisfied: scipy in /usr/local/lib/python3.11/dist-packages (from gym==0.17.3) (1.15.3)\n",
            "Requirement already satisfied: numpy>=1.10.4 in /usr/local/lib/python3.11/dist-packages (from gym==0.17.3) (1.26.4)\n",
            "Collecting pyglet<=1.5.0,>=1.4.0 (from gym==0.17.3)\n",
            "  Downloading pyglet-1.5.0-py2.py3-none-any.whl.metadata (7.6 kB)\n",
            "Collecting cloudpickle<1.7.0,>=1.2.0 (from gym==0.17.3)\n",
            "  Downloading cloudpickle-1.6.0-py3-none-any.whl.metadata (4.3 kB)\n",
            "Requirement already satisfied: future in /usr/local/lib/python3.11/dist-packages (from pyglet<=1.5.0,>=1.4.0->gym==0.17.3) (1.0.0)\n",
            "Downloading cloudpickle-1.6.0-py3-none-any.whl (23 kB)\n",
            "Downloading pyglet-1.5.0-py2.py3-none-any.whl (1.0 MB)\n",
            "\u001b[2K   \u001b[90m━━━━━━━━━━━━━━━━━━━━━━━━━━━━━━━━━━━━━━━━\u001b[0m \u001b[32m1.0/1.0 MB\u001b[0m \u001b[31m49.5 MB/s\u001b[0m eta \u001b[36m0:00:00\u001b[0m\n",
            "\u001b[?25hBuilding wheels for collected packages: gym\n",
            "  Building wheel for gym (setup.py) ... \u001b[?25l\u001b[?25hdone\n",
            "  Created wheel for gym: filename=gym-0.17.3-py3-none-any.whl size=1654617 sha256=626f9a19b8e40fd85a32ca80011b6658a803b7cabb74047eceeea13f59c4ea98\n",
            "  Stored in directory: /root/.cache/pip/wheels/07/8b/b7/570cb90b10f17e85ccb291ba1f04af41ec697745104a2263eb\n",
            "Successfully built gym\n",
            "Installing collected packages: pyglet, cloudpickle, gym\n",
            "  Attempting uninstall: cloudpickle\n",
            "    Found existing installation: cloudpickle 3.1.1\n",
            "    Uninstalling cloudpickle-3.1.1:\n",
            "      Successfully uninstalled cloudpickle-3.1.1\n",
            "  Attempting uninstall: gym\n",
            "    Found existing installation: gym 0.25.2\n",
            "    Uninstalling gym-0.25.2:\n",
            "      Successfully uninstalled gym-0.25.2\n",
            "\u001b[31mERROR: pip's dependency resolver does not currently take into account all the packages that are installed. This behaviour is the source of the following dependency conflicts.\n",
            "distributed 2024.12.1 requires cloudpickle>=3.0.0, but you have cloudpickle 1.6.0 which is incompatible.\n",
            "dask 2024.12.1 requires cloudpickle>=3.0.0, but you have cloudpickle 1.6.0 which is incompatible.\n",
            "bigframes 2.5.0 requires cloudpickle>=2.0.0, but you have cloudpickle 1.6.0 which is incompatible.\u001b[0m\u001b[31m\n",
            "\u001b[0mSuccessfully installed cloudpickle-1.6.0 gym-0.17.3 pyglet-1.5.0\n",
            "Collecting git+https://github.com/Kojoley/atari-py.git\n",
            "  Cloning https://github.com/Kojoley/atari-py.git to /tmp/pip-req-build-qgtp_m3v\n",
            "  Running command git clone --filter=blob:none --quiet https://github.com/Kojoley/atari-py.git /tmp/pip-req-build-qgtp_m3v\n",
            "  Resolved https://github.com/Kojoley/atari-py.git to commit 86a1e05c0a95e9e6233c3a413521fdb34ca8a089\n",
            "  Preparing metadata (setup.py) ... \u001b[?25l\u001b[?25hdone\n",
            "Requirement already satisfied: numpy in /usr/local/lib/python3.11/dist-packages (from atari-py==1.2.2) (1.26.4)\n",
            "Building wheels for collected packages: atari-py\n",
            "  Building wheel for atari-py (setup.py) ... \u001b[?25l\u001b[?25hdone\n",
            "  Created wheel for atari-py: filename=atari_py-1.2.2-cp311-cp311-linux_x86_64.whl size=4738555 sha256=77b67405510866f790e0472465f73bd5dd7d5cae5e5ba5b01fbc79ba34a8e975\n",
            "  Stored in directory: /tmp/pip-ephem-wheel-cache-ydt8662e/wheels/1a/58/b3/3baab9d1509939ecce2dfd9ca349c222b7ee6590f4bd6097a1\n",
            "Successfully built atari-py\n",
            "Installing collected packages: atari-py\n",
            "Successfully installed atari-py-1.2.2\n",
            "Collecting keras-rl2==1.0.5\n",
            "  Downloading keras_rl2-1.0.5-py3-none-any.whl.metadata (304 bytes)\n",
            "Requirement already satisfied: tensorflow in /usr/local/lib/python3.11/dist-packages (from keras-rl2==1.0.5) (2.15.0)\n",
            "Requirement already satisfied: absl-py>=1.0.0 in /usr/local/lib/python3.11/dist-packages (from tensorflow->keras-rl2==1.0.5) (1.4.0)\n",
            "Requirement already satisfied: astunparse>=1.6.0 in /usr/local/lib/python3.11/dist-packages (from tensorflow->keras-rl2==1.0.5) (1.6.3)\n",
            "Requirement already satisfied: flatbuffers>=23.5.26 in /usr/local/lib/python3.11/dist-packages (from tensorflow->keras-rl2==1.0.5) (25.2.10)\n",
            "Requirement already satisfied: gast!=0.5.0,!=0.5.1,!=0.5.2,>=0.2.1 in /usr/local/lib/python3.11/dist-packages (from tensorflow->keras-rl2==1.0.5) (0.6.0)\n",
            "Requirement already satisfied: google-pasta>=0.1.1 in /usr/local/lib/python3.11/dist-packages (from tensorflow->keras-rl2==1.0.5) (0.2.0)\n",
            "Requirement already satisfied: h5py>=2.9.0 in /usr/local/lib/python3.11/dist-packages (from tensorflow->keras-rl2==1.0.5) (3.13.0)\n",
            "Requirement already satisfied: libclang>=13.0.0 in /usr/local/lib/python3.11/dist-packages (from tensorflow->keras-rl2==1.0.5) (18.1.1)\n",
            "Requirement already satisfied: ml-dtypes~=0.2.0 in /usr/local/lib/python3.11/dist-packages (from tensorflow->keras-rl2==1.0.5) (0.2.0)\n",
            "Requirement already satisfied: numpy<2.0.0,>=1.23.5 in /usr/local/lib/python3.11/dist-packages (from tensorflow->keras-rl2==1.0.5) (1.26.4)\n",
            "Requirement already satisfied: opt-einsum>=2.3.2 in /usr/local/lib/python3.11/dist-packages (from tensorflow->keras-rl2==1.0.5) (3.4.0)\n",
            "Requirement already satisfied: packaging in /usr/local/lib/python3.11/dist-packages (from tensorflow->keras-rl2==1.0.5) (24.2)\n",
            "Requirement already satisfied: protobuf!=4.21.0,!=4.21.1,!=4.21.2,!=4.21.3,!=4.21.4,!=4.21.5,<5.0.0dev,>=3.20.3 in /usr/local/lib/python3.11/dist-packages (from tensorflow->keras-rl2==1.0.5) (4.25.8)\n",
            "Requirement already satisfied: setuptools in /usr/local/lib/python3.11/dist-packages (from tensorflow->keras-rl2==1.0.5) (75.2.0)\n",
            "Requirement already satisfied: six>=1.12.0 in /usr/local/lib/python3.11/dist-packages (from tensorflow->keras-rl2==1.0.5) (1.17.0)\n",
            "Requirement already satisfied: termcolor>=1.1.0 in /usr/local/lib/python3.11/dist-packages (from tensorflow->keras-rl2==1.0.5) (3.1.0)\n",
            "Requirement already satisfied: typing-extensions>=3.6.6 in /usr/local/lib/python3.11/dist-packages (from tensorflow->keras-rl2==1.0.5) (4.14.0)\n",
            "Requirement already satisfied: wrapt<1.15,>=1.11.0 in /usr/local/lib/python3.11/dist-packages (from tensorflow->keras-rl2==1.0.5) (1.14.1)\n",
            "Requirement already satisfied: tensorflow-io-gcs-filesystem>=0.23.1 in /usr/local/lib/python3.11/dist-packages (from tensorflow->keras-rl2==1.0.5) (0.37.1)\n",
            "Requirement already satisfied: grpcio<2.0,>=1.24.3 in /usr/local/lib/python3.11/dist-packages (from tensorflow->keras-rl2==1.0.5) (1.72.1)\n",
            "Requirement already satisfied: tensorboard<2.16,>=2.15 in /usr/local/lib/python3.11/dist-packages (from tensorflow->keras-rl2==1.0.5) (2.15.2)\n",
            "Requirement already satisfied: tensorflow-estimator<2.16,>=2.15.0 in /usr/local/lib/python3.11/dist-packages (from tensorflow->keras-rl2==1.0.5) (2.15.0)\n",
            "Requirement already satisfied: keras<2.16,>=2.15.0 in /usr/local/lib/python3.11/dist-packages (from tensorflow->keras-rl2==1.0.5) (2.15.0)\n",
            "Requirement already satisfied: wheel<1.0,>=0.23.0 in /usr/local/lib/python3.11/dist-packages (from astunparse>=1.6.0->tensorflow->keras-rl2==1.0.5) (0.45.1)\n",
            "Requirement already satisfied: google-auth<3,>=1.6.3 in /usr/local/lib/python3.11/dist-packages (from tensorboard<2.16,>=2.15->tensorflow->keras-rl2==1.0.5) (2.38.0)\n",
            "Requirement already satisfied: google-auth-oauthlib<2,>=0.5 in /usr/local/lib/python3.11/dist-packages (from tensorboard<2.16,>=2.15->tensorflow->keras-rl2==1.0.5) (1.2.2)\n",
            "Requirement already satisfied: markdown>=2.6.8 in /usr/local/lib/python3.11/dist-packages (from tensorboard<2.16,>=2.15->tensorflow->keras-rl2==1.0.5) (3.8)\n",
            "Requirement already satisfied: requests<3,>=2.21.0 in /usr/local/lib/python3.11/dist-packages (from tensorboard<2.16,>=2.15->tensorflow->keras-rl2==1.0.5) (2.32.3)\n",
            "Requirement already satisfied: tensorboard-data-server<0.8.0,>=0.7.0 in /usr/local/lib/python3.11/dist-packages (from tensorboard<2.16,>=2.15->tensorflow->keras-rl2==1.0.5) (0.7.2)\n",
            "Requirement already satisfied: werkzeug>=1.0.1 in /usr/local/lib/python3.11/dist-packages (from tensorboard<2.16,>=2.15->tensorflow->keras-rl2==1.0.5) (3.1.3)\n",
            "Requirement already satisfied: cachetools<6.0,>=2.0.0 in /usr/local/lib/python3.11/dist-packages (from google-auth<3,>=1.6.3->tensorboard<2.16,>=2.15->tensorflow->keras-rl2==1.0.5) (5.5.2)\n",
            "Requirement already satisfied: pyasn1-modules>=0.2.1 in /usr/local/lib/python3.11/dist-packages (from google-auth<3,>=1.6.3->tensorboard<2.16,>=2.15->tensorflow->keras-rl2==1.0.5) (0.4.2)\n",
            "Requirement already satisfied: rsa<5,>=3.1.4 in /usr/local/lib/python3.11/dist-packages (from google-auth<3,>=1.6.3->tensorboard<2.16,>=2.15->tensorflow->keras-rl2==1.0.5) (4.9.1)\n",
            "Requirement already satisfied: requests-oauthlib>=0.7.0 in /usr/local/lib/python3.11/dist-packages (from google-auth-oauthlib<2,>=0.5->tensorboard<2.16,>=2.15->tensorflow->keras-rl2==1.0.5) (2.0.0)\n",
            "Requirement already satisfied: charset-normalizer<4,>=2 in /usr/local/lib/python3.11/dist-packages (from requests<3,>=2.21.0->tensorboard<2.16,>=2.15->tensorflow->keras-rl2==1.0.5) (3.4.2)\n",
            "Requirement already satisfied: idna<4,>=2.5 in /usr/local/lib/python3.11/dist-packages (from requests<3,>=2.21.0->tensorboard<2.16,>=2.15->tensorflow->keras-rl2==1.0.5) (3.10)\n",
            "Requirement already satisfied: urllib3<3,>=1.21.1 in /usr/local/lib/python3.11/dist-packages (from requests<3,>=2.21.0->tensorboard<2.16,>=2.15->tensorflow->keras-rl2==1.0.5) (2.4.0)\n",
            "Requirement already satisfied: certifi>=2017.4.17 in /usr/local/lib/python3.11/dist-packages (from requests<3,>=2.21.0->tensorboard<2.16,>=2.15->tensorflow->keras-rl2==1.0.5) (2025.4.26)\n",
            "Requirement already satisfied: MarkupSafe>=2.1.1 in /usr/local/lib/python3.11/dist-packages (from werkzeug>=1.0.1->tensorboard<2.16,>=2.15->tensorflow->keras-rl2==1.0.5) (3.0.2)\n",
            "Requirement already satisfied: pyasn1<0.7.0,>=0.6.1 in /usr/local/lib/python3.11/dist-packages (from pyasn1-modules>=0.2.1->google-auth<3,>=1.6.3->tensorboard<2.16,>=2.15->tensorflow->keras-rl2==1.0.5) (0.6.1)\n",
            "Requirement already satisfied: oauthlib>=3.0.0 in /usr/local/lib/python3.11/dist-packages (from requests-oauthlib>=0.7.0->google-auth-oauthlib<2,>=0.5->tensorboard<2.16,>=2.15->tensorflow->keras-rl2==1.0.5) (3.2.2)\n",
            "Downloading keras_rl2-1.0.5-py3-none-any.whl (52 kB)\n",
            "\u001b[2K   \u001b[90m━━━━━━━━━━━━━━━━━━━━━━━━━━━━━━━━━━━━━━━━\u001b[0m \u001b[32m52.1/52.1 kB\u001b[0m \u001b[31m1.8 MB/s\u001b[0m eta \u001b[36m0:00:00\u001b[0m\n",
            "\u001b[?25hInstalling collected packages: keras-rl2\n",
            "Successfully installed keras-rl2-1.0.5\n"
          ]
        }
      ]
    },
    {
      "cell_type": "markdown",
      "metadata": {
        "id": "4hzP_5ZuGb2X"
      },
      "source": [
        "---\n",
        "## **PARTE 2**. Enunciado\n",
        "\n",
        "Consideraciones a tener en cuenta:\n",
        "\n",
        "- El entorno sobre el que trabajaremos será _SpaceInvaders-v0_ y el algoritmo que usaremos será _DQN_.\n",
        "\n",
        "- Para nuestro ejercicio, el requisito mínimo será alcanzado cuando el agente consiga una **media de recompensa por encima de 20 puntos en modo test**. Por ello, esta media de la recompensa se calculará a partir del código de test en la última celda del notebook.\n",
        "\n",
        "Este proyecto práctico consta de tres partes:\n",
        "\n",
        "1.   Implementar la red neuronal que se usará en la solución\n",
        "2.   Implementar las distintas piezas de la solución DQN\n",
        "3.   Justificar la respuesta en relación a los resultados obtenidos\n",
        "\n",
        "**Rúbrica**: Se valorará la originalidad en la solución aportada, así como la capacidad de discutir los resultados de forma detallada. El requisito mínimo servirá para aprobar la actividad, bajo premisa de que la discusión del resultado sera apropiada.\n",
        "\n",
        "IMPORTANTE:\n",
        "\n",
        "* Si no se consigue una puntuación óptima, responder sobre la mejor puntuación obtenida.\n",
        "* Para entrenamientos largos, recordad que podéis usar checkpoints de vuestros modelos para retomar los entrenamientos. En este caso, recordad cambiar los parámetros adecuadamente (sobre todo los relacionados con el proceso de exploración).\n",
        "* Se deberá entregar unicamente el notebook y los pesos del mejor modelo en un fichero .zip, de forma organizada.\n",
        "* Cada alumno deberá de subir la solución de forma individual."
      ]
    },
    {
      "cell_type": "markdown",
      "source": [
        "---\n",
        "## **PARTE 3**. Desarrollo y preguntas"
      ],
      "metadata": {
        "id": "6_b3mzw8IzJP"
      }
    },
    {
      "cell_type": "markdown",
      "metadata": {
        "id": "duPmUNOVGb2a"
      },
      "source": [
        "#### Importar librerías"
      ]
    },
    {
      "cell_type": "code",
      "execution_count": 5,
      "metadata": {
        "id": "j3eRhgI-Gb2a",
        "colab": {
          "base_uri": "https://localhost:8080/"
        },
        "outputId": "9629a158-216c-4ab6-d388-2dcdc7cd7397"
      },
      "outputs": [
        {
          "output_type": "stream",
          "name": "stdout",
          "text": [
            "2.15.0\n"
          ]
        }
      ],
      "source": [
        "from PIL import Image\n",
        "import numpy as np\n",
        "import gym\n",
        "import keras\n",
        "print(keras.__version__)\n",
        "import tensorflow\n",
        "\n",
        "tensorflow.keras.__version__ = keras.__version__\n",
        "from tensorflow.keras.models import Model # Importar Model para la API funcional\n",
        "from tensorflow.keras.layers import Dense, Activation, Flatten, Convolution2D, Permute, Input\n",
        "from tensorflow.keras.optimizers import Adam\n",
        "import tensorflow.keras.backend as K\n",
        "\n",
        "from rl.agents.dqn import DQNAgent\n",
        "from rl.policy import LinearAnnealedPolicy, BoltzmannQPolicy, EpsGreedyQPolicy\n",
        "from rl.memory import SequentialMemory\n",
        "from rl.core import Processor\n",
        "from rl.callbacks import FileLogger, ModelIntervalCheckpoint"
      ]
    },
    {
      "cell_type": "markdown",
      "metadata": {
        "id": "f4jgQjzoGb2a"
      },
      "source": [
        "#### Configuración base"
      ]
    },
    {
      "cell_type": "code",
      "execution_count": 6,
      "metadata": {
        "id": "jwOE6I_KGb2a"
      },
      "outputs": [],
      "source": [
        "INPUT_SHAPE = (84, 84)\n",
        "WINDOW_LENGTH = 4\n",
        "\n",
        "env_name = 'SpaceInvaders-v0'\n",
        "env = gym.make(env_name)\n",
        "\n",
        "np.random.seed(123)\n",
        "env.seed(123)\n",
        "nb_actions = env.action_space.n"
      ]
    },
    {
      "cell_type": "code",
      "execution_count": 7,
      "metadata": {
        "id": "9jGEZUcpGb2a"
      },
      "outputs": [],
      "source": [
        "class AtariProcessor(Processor):\n",
        "    def process_observation(self, observation):\n",
        "        assert observation.ndim == 3  # (height, width, channel)\n",
        "        img = Image.fromarray(observation)\n",
        "        img = img.resize(INPUT_SHAPE).convert('L')\n",
        "        processed_observation = np.array(img)\n",
        "        assert processed_observation.shape == INPUT_SHAPE\n",
        "        return processed_observation.astype('uint8')\n",
        "\n",
        "    def process_state_batch(self, batch):\n",
        "        processed_batch = batch.astype('float32') / 255.\n",
        "        return processed_batch\n",
        "\n",
        "    def process_reward(self, reward):\n",
        "        return np.clip(reward, -1., 1.)"
      ]
    },
    {
      "cell_type": "markdown",
      "metadata": {
        "id": "7yitXTADGb2b"
      },
      "source": [
        "1. Implementación de la red neuronal"
      ]
    },
    {
      "cell_type": "code",
      "execution_count": 8,
      "metadata": {
        "id": "O4GKrfWSGb2b",
        "colab": {
          "base_uri": "https://localhost:8080/"
        },
        "outputId": "ce95d364-757c-4016-ae84-056e16991639"
      },
      "outputs": [
        {
          "output_type": "stream",
          "name": "stdout",
          "text": [
            "Model: \"model\"\n",
            "__________________________________________________________________________________________________\n",
            " Layer (type)                Output Shape                 Param #   Connected to                  \n",
            "==================================================================================================\n",
            " input_1 (InputLayer)        [(None, 4, 84, 84)]          0         []                            \n",
            "                                                                                                  \n",
            " permute (Permute)           (None, 84, 84, 4)            0         ['input_1[0][0]']             \n",
            "                                                                                                  \n",
            " conv2d (Conv2D)             (None, 20, 20, 32)           8224      ['permute[0][0]']             \n",
            "                                                                                                  \n",
            " conv2d_1 (Conv2D)           (None, 9, 9, 64)             32832     ['conv2d[0][0]']              \n",
            "                                                                                                  \n",
            " conv2d_2 (Conv2D)           (None, 7, 7, 64)             36928     ['conv2d_1[0][0]']            \n",
            "                                                                                                  \n",
            " flatten (Flatten)           (None, 3136)                 0         ['conv2d_2[0][0]']            \n",
            "                                                                                                  \n",
            " dense_1 (Dense)             (None, 512)                  1606144   ['flatten[0][0]']             \n",
            "                                                                                                  \n",
            " advantage_output (Dense)    (None, 6)                    3078      ['dense_1[0][0]']             \n",
            "                                                                                                  \n",
            " dense (Dense)               (None, 512)                  1606144   ['flatten[0][0]']             \n",
            "                                                                                                  \n",
            " tf_op_layer_Mean (TensorFl  [(None, 1)]                  0         ['advantage_output[0][0]']    \n",
            " owOpLayer)                                                                                       \n",
            "                                                                                                  \n",
            " value_output (Dense)        (None, 1)                    513       ['dense[0][0]']               \n",
            "                                                                                                  \n",
            " subtract (Subtract)         (None, 6)                    0         ['advantage_output[0][0]',    \n",
            "                                                                     'tf_op_layer_Mean[0][0]']    \n",
            "                                                                                                  \n",
            " add (Add)                   (None, 6)                    0         ['value_output[0][0]',        \n",
            "                                                                     'subtract[0][0]']            \n",
            "                                                                                                  \n",
            "==================================================================================================\n",
            "Total params: 3293863 (12.57 MB)\n",
            "Trainable params: 3293863 (12.57 MB)\n",
            "Non-trainable params: 0 (0.00 Byte)\n",
            "__________________________________________________________________________________________________\n",
            "None\n"
          ]
        }
      ],
      "source": [
        "# Modificación de la red neuronal para uso de Dueling Network\n",
        "def build_model(input_shape, nb_actions):\n",
        "    # Usamos la API funcional de Keras para construir la red.\n",
        "    # Define la entrada\n",
        "    state_input = Input(shape=input_shape)\n",
        "\n",
        "    # Capa Permute para reordenar las dimensiones a (batch, height, width, channels)\n",
        "    # (WINDOW_LENGTH, INPUT_SHAPE[0], INPUT_SHAPE[1]) -> (INPUT_SHAPE[0], INPUT_SHAPE[1], WINDOW_LENGTH)\n",
        "    x = Permute((2, 3, 1))(state_input)\n",
        "\n",
        "    # Capas convolucionales (mismas que en tu modelo original)\n",
        "    x = Convolution2D(32, (8, 8), strides=(4, 4), activation='relu')(x)\n",
        "    x = Convolution2D(64, (4, 4), strides=(2, 2), activation='relu')(x)\n",
        "    x = Convolution2D(64, (3, 3), strides=(1, 1), activation='relu')(x)\n",
        "\n",
        "    # Aplanar la salida de las convoluciones para las capas densas\n",
        "    x = Flatten()(x)\n",
        "\n",
        "    # Flujo de Valor (Value Stream)\n",
        "    # Una capa densa que culmina en una única salida para V(s)\n",
        "    value_hidden = Dense(512, activation='relu')(x)\n",
        "    value = Dense(1, activation='linear', name='value_output')(value_hidden) # Una sola salida para el valor del estado\n",
        "\n",
        "    # Flujo de Ventaja (Advantage Stream)\n",
        "    # Una capa densa que culmina en 'nb_actions' salidas para A(s,a)\n",
        "    advantage_hidden = Dense(512, activation='relu')(x)\n",
        "    advantage = Dense(nb_actions, activation='linear', name='advantage_output')(advantage_hidden) # nb_actions salidas para las ventajas de las acciones\n",
        "\n",
        "    # Combinar Valor y Ventaja para obtener los Q-valores\n",
        "    # K.mean(advantage, axis=-1, keepdims=True) calcula el promedio de las ventajas para la normalización\n",
        "    # Expande la dimensión para que sea compatible para la resta/suma\n",
        "    # La resta se realiza para centrar la ventaja, como se describe en la fórmula de Dueling DQN.\n",
        "    q_values = keras.layers.Add()([value, keras.layers.Subtract()([advantage, K.mean(advantage, axis=-1, keepdims=True)])])\n",
        "\n",
        "    # Construir el modelo Keras con la entrada y la salida de los Q-valores\n",
        "    model = Model(inputs=state_input, outputs=q_values)\n",
        "\n",
        "    return model\n",
        "\n",
        "input_shape = (WINDOW_LENGTH, INPUT_SHAPE[0], INPUT_SHAPE[1])\n",
        "model = build_model(input_shape, nb_actions)\n",
        "print(model.summary())"
      ]
    },
    {
      "cell_type": "markdown",
      "metadata": {
        "id": "OB9-_5HPGb2b"
      },
      "source": [
        "2. Implementación de la solución DQN"
      ]
    },
    {
      "cell_type": "code",
      "execution_count": 9,
      "metadata": {
        "id": "foSlxWH1Gb2b"
      },
      "outputs": [],
      "source": [
        "from tensorflow.keras.optimizers.legacy import Adam\n",
        "memory = SequentialMemory(limit=1000000, window_length=WINDOW_LENGTH)\n",
        "\n",
        "base_steps = 1050000\n",
        "class LinearAnnealedPolicyCustom(LinearAnnealedPolicy):\n",
        "  def get_current_value(self):\n",
        "    \"\"\"Return current annealing value\n",
        "\n",
        "    # Returns\n",
        "        Value to use in annealing\n",
        "    \"\"\"\n",
        "    if self.agent.training:\n",
        "        # Linear annealed: f(x) = ax + b.\n",
        "        a = -float(self.value_max - self.value_min) / float(self.nb_steps)\n",
        "        b = float(self.value_max)\n",
        "        value = max(self.value_min, a * float(self.agent.step+base_steps) + b)\n",
        "    else:\n",
        "        value = self.value_test\n",
        "    return value\n",
        "\n",
        "# Creando la policy\n",
        "policy = LinearAnnealedPolicyCustom(EpsGreedyQPolicy(), attr='eps', value_max=1., value_min=.1, value_test=0.05, nb_steps=1000000)\n",
        "\n",
        "# Creando el agente de DQN\n",
        "dqn = DQNAgent(model=model, nb_actions=nb_actions, policy=policy, memory=memory,\n",
        "               processor=AtariProcessor(), nb_steps_warmup=50000, gamma=.99, target_model_update=10000,\n",
        "               train_interval=4, delta_clip=1.)\n",
        "\n",
        "# Compilando el agente\n",
        "dqn.compile(Adam(learning_rate=0.00025), metrics=['mae'])\n",
        "\n",
        "# Logica para almacenar los pesos del modelo\n",
        "weights_filename = 'dqn_{}_weights.h5f'.format(env_name)\n",
        "checkpoint_weights_filename = 'dqn_' + env_name + '_weights_{step}.h5f'\n",
        "callbacks = [ModelIntervalCheckpoint(checkpoint_weights_filename, interval=50000)]\n",
        "callbacks += [FileLogger('dqn_{}_log.json'.format(env_name), interval=100)]\n"
      ]
    },
    {
      "cell_type": "code",
      "source": [
        "# --- Parte de Entrenamiento con Checkpoints en Google Drive ---\n",
        "\n",
        "# Define el directorio para los checkpoints dentro de tu carpeta de Google Drive\n",
        "checkpoint_dir = os.path.join(drive_root, 'checkpoints')\n",
        "# Crea el directorio si no existe (exist_ok=True evita errores si ya existe)\n",
        "os.makedirs(checkpoint_dir, exist_ok=True)\n",
        "\n",
        "# Define el nombre de archivo para guardar los pesos, incluyendo la ruta a tu carpeta de Drive\n",
        "# {step} será reemplazado automáticamente por el número de pasos realizados durante el entrenamiento\n",
        "checkpoint_weights_filename = os.path.join(checkpoint_dir, 'dqn_' + env_name +str(base_steps)+ '_weights_{step}.h5f')\n",
        "\n",
        "# Define los callbacks para guardar los pesos y registrar el progreso\n",
        "# ModelIntervalCheckpoint guarda los pesos en intervalos especificados\n",
        "# FileLogger registra el progreso del entrenamiento en un archivo JSON\n",
        "callbacks = [ModelIntervalCheckpoint(checkpoint_weights_filename, interval=50000)]\n",
        "callbacks += [FileLogger(os.path.join(drive_root, 'dqn_{}'+str(base_steps)+'_log.json'.format(env_name)), interval=100)]\n",
        "\n",
        "\n",
        "# --- Iniciar Entrenamiento ---\n",
        "print(\"\\nIniciando el entrenamiento de DQN...\")\n",
        "# Puedes ajustar 'nb_steps' según tus recursos computacionales y la duración deseada del entrenamiento.\n",
        "# Para un buen rendimiento en Atari, esto a menudo requiere millones de pasos.\n",
        "# Comienza con un número menor como 500,000 para ver el progreso, luego auméntalo.\n",
        "final_weights_filename = os.path.join(drive_root, 'dqn_{}_final_weights.h5f'.format(env_name))\n",
        "\n",
        "try:\n",
        "    dqn.load_weights(final_weights_filename) # Carga los pesos finales guardados anteriormente\n",
        "    dqn.fit(env, callbacks=callbacks, nb_steps=10000, log_interval=10000, visualize=False, verbose=2)\n",
        "    print(f\"Pesos cargados exitosamente desde: {final_weights_filename}. Reanudando entrenamiento.\")\n",
        "except OSError:\n",
        "    print(f\"No se encontraron pesos en {final_weights_filename}. Iniciando entrenamiento desde cero.\")\n",
        "except Exception as e:\n",
        "    print(f\"Error al cargar pesos: {e}. Iniciando entrenamiento desde cero.\")\n",
        "\n",
        "# Después de entrenar, guarda los pesos finales\n",
        "final_weights_filename = os.path.join(drive_root, 'dqn_{}_final_weights.h5f'.format(env_name))\n",
        "#cargar pesos anteriores\n",
        "dqn.save_weights(final_weights_filename, overwrite=True)\n",
        "print(f\"\\nEntrenamiento finalizado. Pesos finales guardados en: {final_weights_filename}\")\n",
        "\n",
        "# --- Parte de prueba para calcular la recompensa media (después del entrenamiento) ---\n",
        "print(\"\\nIniciando la fase de prueba...\")\n",
        "# Carga los pesos finales para la prueba (o un checkpoint específico si quieres probar un modelo intermedio)\n",
        "dqn.load_weights(final_weights_filename) # Carga los pesos finales guardados anteriormente\n",
        "dqn.test(env, nb_episodes=10, visualize=False)\n",
        "print(\"Prueba completada.\")"
      ],
      "metadata": {
        "colab": {
          "base_uri": "https://localhost:8080/",
          "height": 1000
        },
        "id": "ucfuqBxd9xoN",
        "outputId": "cd089400-6c96-4dad-d41a-781bdbe24db2"
      },
      "execution_count": null,
      "outputs": [
        {
          "output_type": "stream",
          "name": "stdout",
          "text": [
            "\n",
            "Starting DQN training...\n",
            "Training for 1000000 steps ...\n",
            "    658/1000000: episode: 1, duration: 4.823s, episode steps: 658, steps per second: 136, episode reward:  6.000, mean reward:  0.009 [ 0.000,  1.000], mean action: 2.562 [0.000, 5.000],  loss: --, mae: --, mean_q: --, mean_eps: --\n",
            "   1380/1000000: episode: 2, duration: 6.106s, episode steps: 722, steps per second: 118, episode reward: 10.000, mean reward:  0.014 [ 0.000,  1.000], mean action: 2.464 [0.000, 5.000],  loss: --, mae: --, mean_q: --, mean_eps: --\n",
            "   2175/1000000: episode: 3, duration: 5.405s, episode steps: 795, steps per second: 147, episode reward: 14.000, mean reward:  0.018 [ 0.000,  1.000], mean action: 2.555 [0.000, 5.000],  loss: --, mae: --, mean_q: --, mean_eps: --\n",
            "   2697/1000000: episode: 4, duration: 3.632s, episode steps: 522, steps per second: 144, episode reward:  8.000, mean reward:  0.015 [ 0.000,  1.000], mean action: 2.498 [0.000, 5.000],  loss: --, mae: --, mean_q: --, mean_eps: --\n",
            "   3619/1000000: episode: 5, duration: 8.456s, episode steps: 922, steps per second: 109, episode reward: 10.000, mean reward:  0.011 [ 0.000,  1.000], mean action: 2.586 [0.000, 5.000],  loss: --, mae: --, mean_q: --, mean_eps: --\n",
            "   4387/1000000: episode: 6, duration: 5.868s, episode steps: 768, steps per second: 131, episode reward: 13.000, mean reward:  0.017 [ 0.000,  1.000], mean action: 2.452 [0.000, 5.000],  loss: --, mae: --, mean_q: --, mean_eps: --\n",
            "   5173/1000000: episode: 7, duration: 7.499s, episode steps: 786, steps per second: 105, episode reward:  8.000, mean reward:  0.010 [ 0.000,  1.000], mean action: 2.612 [0.000, 5.000],  loss: --, mae: --, mean_q: --, mean_eps: --\n",
            "   5988/1000000: episode: 8, duration: 5.443s, episode steps: 815, steps per second: 150, episode reward: 13.000, mean reward:  0.016 [ 0.000,  1.000], mean action: 2.456 [0.000, 5.000],  loss: --, mae: --, mean_q: --, mean_eps: --\n",
            "   6598/1000000: episode: 9, duration: 5.508s, episode steps: 610, steps per second: 111, episode reward: 11.000, mean reward:  0.018 [ 0.000,  1.000], mean action: 2.477 [0.000, 5.000],  loss: --, mae: --, mean_q: --, mean_eps: --\n",
            "   7534/1000000: episode: 10, duration: 6.916s, episode steps: 936, steps per second: 135, episode reward:  9.000, mean reward:  0.010 [ 0.000,  1.000], mean action: 2.495 [0.000, 5.000],  loss: --, mae: --, mean_q: --, mean_eps: --\n",
            "   8451/1000000: episode: 11, duration: 7.536s, episode steps: 917, steps per second: 122, episode reward: 16.000, mean reward:  0.017 [ 0.000,  1.000], mean action: 2.447 [0.000, 5.000],  loss: --, mae: --, mean_q: --, mean_eps: --\n",
            "   9164/1000000: episode: 12, duration: 5.603s, episode steps: 713, steps per second: 127, episode reward: 10.000, mean reward:  0.014 [ 0.000,  1.000], mean action: 2.482 [0.000, 5.000],  loss: --, mae: --, mean_q: --, mean_eps: --\n",
            "   9761/1000000: episode: 13, duration: 3.900s, episode steps: 597, steps per second: 153, episode reward:  8.000, mean reward:  0.013 [ 0.000,  1.000], mean action: 2.479 [0.000, 5.000],  loss: --, mae: --, mean_q: --, mean_eps: --\n",
            "  10542/1000000: episode: 14, duration: 6.683s, episode steps: 781, steps per second: 117, episode reward: 10.000, mean reward:  0.013 [ 0.000,  1.000], mean action: 2.451 [0.000, 5.000],  loss: --, mae: --, mean_q: --, mean_eps: --\n",
            "  11333/1000000: episode: 15, duration: 5.721s, episode steps: 791, steps per second: 138, episode reward: 18.000, mean reward:  0.023 [ 0.000,  1.000], mean action: 2.506 [0.000, 5.000],  loss: --, mae: --, mean_q: --, mean_eps: --\n",
            "  11840/1000000: episode: 16, duration: 4.033s, episode steps: 507, steps per second: 126, episode reward:  6.000, mean reward:  0.012 [ 0.000,  1.000], mean action: 2.436 [0.000, 5.000],  loss: --, mae: --, mean_q: --, mean_eps: --\n",
            "  12410/1000000: episode: 17, duration: 4.885s, episode steps: 570, steps per second: 117, episode reward:  7.000, mean reward:  0.012 [ 0.000,  1.000], mean action: 2.484 [0.000, 5.000],  loss: --, mae: --, mean_q: --, mean_eps: --\n",
            "  13001/1000000: episode: 18, duration: 4.303s, episode steps: 591, steps per second: 137, episode reward:  5.000, mean reward:  0.008 [ 0.000,  1.000], mean action: 2.403 [0.000, 5.000],  loss: --, mae: --, mean_q: --, mean_eps: --\n",
            "  13496/1000000: episode: 19, duration: 3.494s, episode steps: 495, steps per second: 142, episode reward:  4.000, mean reward:  0.008 [ 0.000,  1.000], mean action: 2.537 [0.000, 5.000],  loss: --, mae: --, mean_q: --, mean_eps: --\n",
            "  13878/1000000: episode: 20, duration: 4.099s, episode steps: 382, steps per second:  93, episode reward:  6.000, mean reward:  0.016 [ 0.000,  1.000], mean action: 2.618 [0.000, 5.000],  loss: --, mae: --, mean_q: --, mean_eps: --\n",
            "  14250/1000000: episode: 21, duration: 2.727s, episode steps: 372, steps per second: 136, episode reward:  5.000, mean reward:  0.013 [ 0.000,  1.000], mean action: 2.411 [0.000, 5.000],  loss: --, mae: --, mean_q: --, mean_eps: --\n",
            "  14875/1000000: episode: 22, duration: 4.214s, episode steps: 625, steps per second: 148, episode reward:  9.000, mean reward:  0.014 [ 0.000,  1.000], mean action: 2.414 [0.000, 5.000],  loss: --, mae: --, mean_q: --, mean_eps: --\n",
            "  15486/1000000: episode: 23, duration: 4.515s, episode steps: 611, steps per second: 135, episode reward:  7.000, mean reward:  0.011 [ 0.000,  1.000], mean action: 2.329 [0.000, 5.000],  loss: --, mae: --, mean_q: --, mean_eps: --\n",
            "  16119/1000000: episode: 24, duration: 5.289s, episode steps: 633, steps per second: 120, episode reward:  9.000, mean reward:  0.014 [ 0.000,  1.000], mean action: 2.463 [0.000, 5.000],  loss: --, mae: --, mean_q: --, mean_eps: --\n",
            "  16852/1000000: episode: 25, duration: 5.333s, episode steps: 733, steps per second: 137, episode reward:  9.000, mean reward:  0.012 [ 0.000,  1.000], mean action: 2.472 [0.000, 5.000],  loss: --, mae: --, mean_q: --, mean_eps: --\n",
            "  17681/1000000: episode: 26, duration: 7.133s, episode steps: 829, steps per second: 116, episode reward: 12.000, mean reward:  0.014 [ 0.000,  1.000], mean action: 2.581 [0.000, 5.000],  loss: --, mae: --, mean_q: --, mean_eps: --\n",
            "  18662/1000000: episode: 27, duration: 6.816s, episode steps: 981, steps per second: 144, episode reward: 15.000, mean reward:  0.015 [ 0.000,  1.000], mean action: 2.506 [0.000, 5.000],  loss: --, mae: --, mean_q: --, mean_eps: --\n",
            "  19300/1000000: episode: 28, duration: 5.640s, episode steps: 638, steps per second: 113, episode reward:  6.000, mean reward:  0.009 [ 0.000,  1.000], mean action: 2.480 [0.000, 5.000],  loss: --, mae: --, mean_q: --, mean_eps: --\n",
            "  20238/1000000: episode: 29, duration: 6.400s, episode steps: 938, steps per second: 147, episode reward: 14.000, mean reward:  0.015 [ 0.000,  1.000], mean action: 2.457 [0.000, 5.000],  loss: --, mae: --, mean_q: --, mean_eps: --\n",
            "  20747/1000000: episode: 30, duration: 3.725s, episode steps: 509, steps per second: 137, episode reward:  7.000, mean reward:  0.014 [ 0.000,  1.000], mean action: 2.511 [0.000, 5.000],  loss: --, mae: --, mean_q: --, mean_eps: --\n",
            "  21422/1000000: episode: 31, duration: 5.899s, episode steps: 675, steps per second: 114, episode reward: 10.000, mean reward:  0.015 [ 0.000,  1.000], mean action: 2.419 [0.000, 5.000],  loss: --, mae: --, mean_q: --, mean_eps: --\n",
            "  21812/1000000: episode: 32, duration: 2.475s, episode steps: 390, steps per second: 158, episode reward:  3.000, mean reward:  0.008 [ 0.000,  1.000], mean action: 2.421 [0.000, 5.000],  loss: --, mae: --, mean_q: --, mean_eps: --\n",
            "  22581/1000000: episode: 33, duration: 4.832s, episode steps: 769, steps per second: 159, episode reward:  9.000, mean reward:  0.012 [ 0.000,  1.000], mean action: 2.441 [0.000, 5.000],  loss: --, mae: --, mean_q: --, mean_eps: --\n",
            "  23401/1000000: episode: 34, duration: 6.804s, episode steps: 820, steps per second: 121, episode reward: 12.000, mean reward:  0.015 [ 0.000,  1.000], mean action: 2.400 [0.000, 5.000],  loss: --, mae: --, mean_q: --, mean_eps: --\n",
            "  23798/1000000: episode: 35, duration: 2.659s, episode steps: 397, steps per second: 149, episode reward:  4.000, mean reward:  0.010 [ 0.000,  1.000], mean action: 2.506 [0.000, 5.000],  loss: --, mae: --, mean_q: --, mean_eps: --\n",
            "  24199/1000000: episode: 36, duration: 2.812s, episode steps: 401, steps per second: 143, episode reward:  5.000, mean reward:  0.012 [ 0.000,  1.000], mean action: 2.446 [0.000, 5.000],  loss: --, mae: --, mean_q: --, mean_eps: --\n",
            "  25019/1000000: episode: 37, duration: 6.744s, episode steps: 820, steps per second: 122, episode reward: 13.000, mean reward:  0.016 [ 0.000,  1.000], mean action: 2.470 [0.000, 5.000],  loss: --, mae: --, mean_q: --, mean_eps: --\n",
            "  25675/1000000: episode: 38, duration: 4.204s, episode steps: 656, steps per second: 156, episode reward:  8.000, mean reward:  0.012 [ 0.000,  1.000], mean action: 2.463 [0.000, 5.000],  loss: --, mae: --, mean_q: --, mean_eps: --\n",
            "  26170/1000000: episode: 39, duration: 3.245s, episode steps: 495, steps per second: 153, episode reward:  8.000, mean reward:  0.016 [ 0.000,  1.000], mean action: 2.590 [0.000, 5.000],  loss: --, mae: --, mean_q: --, mean_eps: --\n",
            "  26883/1000000: episode: 40, duration: 6.013s, episode steps: 713, steps per second: 119, episode reward:  8.000, mean reward:  0.011 [ 0.000,  1.000], mean action: 2.407 [0.000, 5.000],  loss: --, mae: --, mean_q: --, mean_eps: --\n",
            "  27629/1000000: episode: 41, duration: 5.132s, episode steps: 746, steps per second: 145, episode reward:  9.000, mean reward:  0.012 [ 0.000,  1.000], mean action: 2.410 [0.000, 5.000],  loss: --, mae: --, mean_q: --, mean_eps: --\n",
            "  28190/1000000: episode: 42, duration: 3.633s, episode steps: 561, steps per second: 154, episode reward:  6.000, mean reward:  0.011 [ 0.000,  1.000], mean action: 2.433 [0.000, 5.000],  loss: --, mae: --, mean_q: --, mean_eps: --\n",
            "  28644/1000000: episode: 43, duration: 3.612s, episode steps: 454, steps per second: 126, episode reward:  4.000, mean reward:  0.009 [ 0.000,  1.000], mean action: 2.471 [0.000, 5.000],  loss: --, mae: --, mean_q: --, mean_eps: --\n",
            "  29306/1000000: episode: 44, duration: 5.206s, episode steps: 662, steps per second: 127, episode reward: 11.000, mean reward:  0.017 [ 0.000,  1.000], mean action: 2.464 [0.000, 5.000],  loss: --, mae: --, mean_q: --, mean_eps: --\n",
            "  29765/1000000: episode: 45, duration: 3.092s, episode steps: 459, steps per second: 148, episode reward:  7.000, mean reward:  0.015 [ 0.000,  1.000], mean action: 2.434 [0.000, 5.000],  loss: --, mae: --, mean_q: --, mean_eps: --\n",
            "  30257/1000000: episode: 46, duration: 3.318s, episode steps: 492, steps per second: 148, episode reward:  7.000, mean reward:  0.014 [ 0.000,  1.000], mean action: 2.565 [0.000, 5.000],  loss: --, mae: --, mean_q: --, mean_eps: --\n",
            "  30665/1000000: episode: 47, duration: 3.776s, episode steps: 408, steps per second: 108, episode reward:  6.000, mean reward:  0.015 [ 0.000,  1.000], mean action: 2.544 [0.000, 5.000],  loss: --, mae: --, mean_q: --, mean_eps: --\n",
            "  31267/1000000: episode: 48, duration: 4.504s, episode steps: 602, steps per second: 134, episode reward:  3.000, mean reward:  0.005 [ 0.000,  1.000], mean action: 2.515 [0.000, 5.000],  loss: --, mae: --, mean_q: --, mean_eps: --\n",
            "  32335/1000000: episode: 49, duration: 7.751s, episode steps: 1068, steps per second: 138, episode reward: 19.000, mean reward:  0.018 [ 0.000,  1.000], mean action: 2.393 [0.000, 5.000],  loss: --, mae: --, mean_q: --, mean_eps: --\n",
            "  32784/1000000: episode: 50, duration: 3.971s, episode steps: 449, steps per second: 113, episode reward:  5.000, mean reward:  0.011 [ 0.000,  1.000], mean action: 2.546 [0.000, 5.000],  loss: --, mae: --, mean_q: --, mean_eps: --\n",
            "  33377/1000000: episode: 51, duration: 4.054s, episode steps: 593, steps per second: 146, episode reward:  6.000, mean reward:  0.010 [ 0.000,  1.000], mean action: 2.531 [0.000, 5.000],  loss: --, mae: --, mean_q: --, mean_eps: --\n",
            "  34122/1000000: episode: 52, duration: 5.353s, episode steps: 745, steps per second: 139, episode reward: 10.000, mean reward:  0.013 [ 0.000,  1.000], mean action: 2.498 [0.000, 5.000],  loss: --, mae: --, mean_q: --, mean_eps: --\n",
            "  35008/1000000: episode: 53, duration: 7.041s, episode steps: 886, steps per second: 126, episode reward: 15.000, mean reward:  0.017 [ 0.000,  1.000], mean action: 2.472 [0.000, 5.000],  loss: --, mae: --, mean_q: --, mean_eps: --\n",
            "  36297/1000000: episode: 54, duration: 10.588s, episode steps: 1289, steps per second: 122, episode reward: 14.000, mean reward:  0.011 [ 0.000,  1.000], mean action: 2.372 [0.000, 5.000],  loss: --, mae: --, mean_q: --, mean_eps: --\n",
            "  36730/1000000: episode: 55, duration: 3.496s, episode steps: 433, steps per second: 124, episode reward:  4.000, mean reward:  0.009 [ 0.000,  1.000], mean action: 2.432 [0.000, 5.000],  loss: --, mae: --, mean_q: --, mean_eps: --\n",
            "  37480/1000000: episode: 56, duration: 5.082s, episode steps: 750, steps per second: 148, episode reward: 11.000, mean reward:  0.015 [ 0.000,  1.000], mean action: 2.453 [0.000, 5.000],  loss: --, mae: --, mean_q: --, mean_eps: --\n",
            "  38293/1000000: episode: 57, duration: 6.916s, episode steps: 813, steps per second: 118, episode reward: 14.000, mean reward:  0.017 [ 0.000,  1.000], mean action: 2.426 [0.000, 5.000],  loss: --, mae: --, mean_q: --, mean_eps: --\n",
            "  39031/1000000: episode: 58, duration: 4.784s, episode steps: 738, steps per second: 154, episode reward:  9.000, mean reward:  0.012 [ 0.000,  1.000], mean action: 2.472 [0.000, 5.000],  loss: --, mae: --, mean_q: --, mean_eps: --\n",
            "  39739/1000000: episode: 59, duration: 5.534s, episode steps: 708, steps per second: 128, episode reward: 11.000, mean reward:  0.016 [ 0.000,  1.000], mean action: 2.565 [0.000, 5.000],  loss: --, mae: --, mean_q: --, mean_eps: --\n",
            "  40138/1000000: episode: 60, duration: 3.360s, episode steps: 399, steps per second: 119, episode reward:  4.000, mean reward:  0.010 [ 0.000,  1.000], mean action: 2.501 [0.000, 5.000],  loss: --, mae: --, mean_q: --, mean_eps: --\n",
            "  40894/1000000: episode: 61, duration: 5.470s, episode steps: 756, steps per second: 138, episode reward: 11.000, mean reward:  0.015 [ 0.000,  1.000], mean action: 2.468 [0.000, 5.000],  loss: --, mae: --, mean_q: --, mean_eps: --\n",
            "  41387/1000000: episode: 62, duration: 3.279s, episode steps: 493, steps per second: 150, episode reward:  3.000, mean reward:  0.006 [ 0.000,  1.000], mean action: 2.331 [0.000, 5.000],  loss: --, mae: --, mean_q: --, mean_eps: --\n",
            "  41920/1000000: episode: 63, duration: 5.092s, episode steps: 533, steps per second: 105, episode reward:  9.000, mean reward:  0.017 [ 0.000,  1.000], mean action: 2.454 [0.000, 5.000],  loss: --, mae: --, mean_q: --, mean_eps: --\n",
            "  43120/1000000: episode: 64, duration: 7.453s, episode steps: 1200, steps per second: 161, episode reward: 14.000, mean reward:  0.012 [ 0.000,  1.000], mean action: 2.364 [0.000, 5.000],  loss: --, mae: --, mean_q: --, mean_eps: --\n",
            "  44168/1000000: episode: 65, duration: 8.076s, episode steps: 1048, steps per second: 130, episode reward: 18.000, mean reward:  0.017 [ 0.000,  1.000], mean action: 2.494 [0.000, 5.000],  loss: --, mae: --, mean_q: --, mean_eps: --\n",
            "  44938/1000000: episode: 66, duration: 4.722s, episode steps: 770, steps per second: 163, episode reward: 11.000, mean reward:  0.014 [ 0.000,  1.000], mean action: 2.460 [0.000, 5.000],  loss: --, mae: --, mean_q: --, mean_eps: --\n",
            "  45627/1000000: episode: 67, duration: 5.088s, episode steps: 689, steps per second: 135, episode reward: 12.000, mean reward:  0.017 [ 0.000,  1.000], mean action: 2.504 [0.000, 5.000],  loss: --, mae: --, mean_q: --, mean_eps: --\n",
            "  46322/1000000: episode: 68, duration: 4.801s, episode steps: 695, steps per second: 145, episode reward: 14.000, mean reward:  0.020 [ 0.000,  1.000], mean action: 2.494 [0.000, 5.000],  loss: --, mae: --, mean_q: --, mean_eps: --\n",
            "  46911/1000000: episode: 69, duration: 3.545s, episode steps: 589, steps per second: 166, episode reward:  6.000, mean reward:  0.010 [ 0.000,  1.000], mean action: 2.548 [0.000, 5.000],  loss: --, mae: --, mean_q: --, mean_eps: --\n",
            "  47315/1000000: episode: 70, duration: 2.569s, episode steps: 404, steps per second: 157, episode reward:  4.000, mean reward:  0.010 [ 0.000,  1.000], mean action: 2.277 [0.000, 5.000],  loss: --, mae: --, mean_q: --, mean_eps: --\n",
            "  48298/1000000: episode: 71, duration: 7.890s, episode steps: 983, steps per second: 125, episode reward: 19.000, mean reward:  0.019 [ 0.000,  1.000], mean action: 2.483 [0.000, 5.000],  loss: --, mae: --, mean_q: --, mean_eps: --\n",
            "  48680/1000000: episode: 72, duration: 2.421s, episode steps: 382, steps per second: 158, episode reward:  6.000, mean reward:  0.016 [ 0.000,  1.000], mean action: 2.338 [0.000, 5.000],  loss: --, mae: --, mean_q: --, mean_eps: --\n",
            "  49135/1000000: episode: 73, duration: 2.890s, episode steps: 455, steps per second: 157, episode reward:  8.000, mean reward:  0.018 [ 0.000,  1.000], mean action: 2.462 [0.000, 5.000],  loss: --, mae: --, mean_q: --, mean_eps: --\n",
            "  49751/1000000: episode: 74, duration: 5.238s, episode steps: 616, steps per second: 118, episode reward:  6.000, mean reward:  0.010 [ 0.000,  1.000], mean action: 2.435 [0.000, 5.000],  loss: --, mae: --, mean_q: --, mean_eps: --\n"
          ]
        },
        {
          "output_type": "stream",
          "name": "stderr",
          "text": [
            "/usr/local/lib/python3.11/dist-packages/keras/src/engine/training_v1.py:2359: UserWarning: `Model.state_updates` will be removed in a future version. This property should not be used in TensorFlow 2.0, as `updates` are applied automatically.\n",
            "  updates=self.state_updates,\n"
          ]
        },
        {
          "output_type": "stream",
          "name": "stdout",
          "text": [
            "  50688/1000000: episode: 75, duration: 44.960s, episode steps: 937, steps per second:  21, episode reward: 12.000, mean reward:  0.013 [ 0.000,  1.000], mean action: 2.398 [0.000, 5.000],  loss: 0.007251, mae: 0.038331, mean_q: 0.058409, mean_eps: 0.954690\n",
            "  51565/1000000: episode: 76, duration: 49.760s, episode steps: 877, steps per second:  18, episode reward: 11.000, mean reward:  0.013 [ 0.000,  1.000], mean action: 2.528 [0.000, 5.000],  loss: 0.007160, mae: 0.039343, mean_q: 0.055280, mean_eps: 0.953987\n",
            "  52260/1000000: episode: 77, duration: 40.483s, episode steps: 695, steps per second:  17, episode reward: 11.000, mean reward:  0.016 [ 0.000,  1.000], mean action: 2.588 [0.000, 5.000],  loss: 0.007601, mae: 0.039772, mean_q: 0.052564, mean_eps: 0.953279\n",
            "  53745/1000000: episode: 78, duration: 92.713s, episode steps: 1485, steps per second:  16, episode reward: 20.000, mean reward:  0.013 [ 0.000,  1.000], mean action: 2.347 [0.000, 5.000],  loss: 0.007970, mae: 0.042459, mean_q: 0.054758, mean_eps: 0.952298\n",
            "  54362/1000000: episode: 79, duration: 44.943s, episode steps: 617, steps per second:  14, episode reward:  5.000, mean reward:  0.008 [ 0.000,  1.000], mean action: 2.475 [0.000, 5.000],  loss: 0.006816, mae: 0.040591, mean_q: 0.053552, mean_eps: 0.951351\n",
            "  55406/1000000: episode: 80, duration: 62.415s, episode steps: 1044, steps per second:  17, episode reward: 17.000, mean reward:  0.016 [ 0.000,  1.000], mean action: 2.594 [0.000, 5.000],  loss: 0.006226, mae: 0.038892, mean_q: 0.049918, mean_eps: 0.950604\n",
            "  56953/1000000: episode: 81, duration: 97.014s, episode steps: 1547, steps per second:  16, episode reward: 20.000, mean reward:  0.013 [ 0.000,  1.000], mean action: 2.611 [0.000, 5.000],  loss: 0.007478, mae: 0.041494, mean_q: 0.053777, mean_eps: 0.949438\n",
            "  57841/1000000: episode: 82, duration: 51.692s, episode steps: 888, steps per second:  17, episode reward: 13.000, mean reward:  0.015 [ 0.000,  1.000], mean action: 2.445 [0.000, 5.000],  loss: 0.007275, mae: 0.041620, mean_q: 0.054098, mean_eps: 0.948342\n",
            "  59305/1000000: episode: 83, duration: 82.489s, episode steps: 1464, steps per second:  18, episode reward: 12.000, mean reward:  0.008 [ 0.000,  1.000], mean action: 2.602 [0.000, 5.000],  loss: 0.007194, mae: 0.041238, mean_q: 0.053918, mean_eps: 0.947283\n",
            "  59827/1000000: episode: 84, duration: 29.951s, episode steps: 522, steps per second:  17, episode reward:  9.000, mean reward:  0.017 [ 0.000,  1.000], mean action: 2.379 [0.000, 5.000],  loss: 0.006281, mae: 0.037826, mean_q: 0.050860, mean_eps: 0.946391\n",
            "  61174/1000000: episode: 85, duration: 75.448s, episode steps: 1347, steps per second:  18, episode reward: 25.000, mean reward:  0.019 [ 0.000,  1.000], mean action: 2.437 [0.000, 5.000],  loss: 0.006470, mae: 0.059890, mean_q: 0.080082, mean_eps: 0.945550\n",
            "  61562/1000000: episode: 86, duration: 23.656s, episode steps: 388, steps per second:  16, episode reward:  5.000, mean reward:  0.013 [ 0.000,  1.000], mean action: 2.500 [0.000, 5.000],  loss: 0.005769, mae: 0.064043, mean_q: 0.081490, mean_eps: 0.944769\n",
            "  61966/1000000: episode: 87, duration: 22.655s, episode steps: 404, steps per second:  18, episode reward:  3.000, mean reward:  0.007 [ 0.000,  1.000], mean action: 2.495 [0.000, 5.000],  loss: 0.006558, mae: 0.063358, mean_q: 0.081325, mean_eps: 0.944412\n",
            "  62730/1000000: episode: 88, duration: 42.249s, episode steps: 764, steps per second:  18, episode reward: 11.000, mean reward:  0.014 [ 0.000,  1.000], mean action: 2.582 [0.000, 5.000],  loss: 0.007308, mae: 0.066596, mean_q: 0.087501, mean_eps: 0.943887\n",
            "  63926/1000000: episode: 89, duration: 67.969s, episode steps: 1196, steps per second:  18, episode reward: 16.000, mean reward:  0.013 [ 0.000,  1.000], mean action: 2.572 [0.000, 5.000],  loss: 0.007354, mae: 0.067476, mean_q: 0.087837, mean_eps: 0.943005\n",
            "  64576/1000000: episode: 90, duration: 38.591s, episode steps: 650, steps per second:  17, episode reward:  8.000, mean reward:  0.012 [ 0.000,  1.000], mean action: 2.562 [0.000, 5.000],  loss: 0.006177, mae: 0.064203, mean_q: 0.082761, mean_eps: 0.942175\n",
            "  65083/1000000: episode: 91, duration: 30.325s, episode steps: 507, steps per second:  17, episode reward:  7.000, mean reward:  0.014 [ 0.000,  1.000], mean action: 2.590 [0.000, 5.000],  loss: 0.005849, mae: 0.063314, mean_q: 0.080018, mean_eps: 0.941655\n",
            "  65501/1000000: episode: 92, duration: 26.033s, episode steps: 418, steps per second:  16, episode reward:  6.000, mean reward:  0.014 [ 0.000,  1.000], mean action: 2.435 [0.000, 5.000],  loss: 0.008045, mae: 0.067357, mean_q: 0.083903, mean_eps: 0.941237\n",
            "  66150/1000000: episode: 93, duration: 35.475s, episode steps: 649, steps per second:  18, episode reward: 10.000, mean reward:  0.015 [ 0.000,  1.000], mean action: 2.433 [0.000, 5.000],  loss: 0.006120, mae: 0.064766, mean_q: 0.083445, mean_eps: 0.940757\n",
            "  66787/1000000: episode: 94, duration: 36.913s, episode steps: 637, steps per second:  17, episode reward: 12.000, mean reward:  0.019 [ 0.000,  1.000], mean action: 2.505 [0.000, 5.000],  loss: 0.006297, mae: 0.063920, mean_q: 0.078825, mean_eps: 0.940179\n",
            "  67435/1000000: episode: 95, duration: 38.489s, episode steps: 648, steps per second:  17, episode reward:  7.000, mean reward:  0.011 [ 0.000,  1.000], mean action: 2.386 [0.000, 5.000],  loss: 0.005747, mae: 0.063480, mean_q: 0.079636, mean_eps: 0.939601\n",
            "  67917/1000000: episode: 96, duration: 28.850s, episode steps: 482, steps per second:  17, episode reward:  7.000, mean reward:  0.015 [ 0.000,  1.000], mean action: 2.573 [0.000, 5.000],  loss: 0.007085, mae: 0.065124, mean_q: 0.083326, mean_eps: 0.939092\n",
            "  68430/1000000: episode: 97, duration: 30.648s, episode steps: 513, steps per second:  17, episode reward:  4.000, mean reward:  0.008 [ 0.000,  1.000], mean action: 2.665 [0.000, 5.000],  loss: 0.006944, mae: 0.065348, mean_q: 0.081287, mean_eps: 0.938643\n",
            "  69128/1000000: episode: 98, duration: 40.536s, episode steps: 698, steps per second:  17, episode reward:  8.000, mean reward:  0.011 [ 0.000,  1.000], mean action: 2.605 [0.000, 5.000],  loss: 0.006806, mae: 0.065466, mean_q: 0.081952, mean_eps: 0.938100\n",
            "  69771/1000000: episode: 99, duration: 35.953s, episode steps: 643, steps per second:  18, episode reward:  7.000, mean reward:  0.011 [ 0.000,  1.000], mean action: 2.507 [0.000, 5.000],  loss: 0.007215, mae: 0.067056, mean_q: 0.082535, mean_eps: 0.937497\n",
            "  70561/1000000: episode: 100, duration: 47.703s, episode steps: 790, steps per second:  17, episode reward: 11.000, mean reward:  0.014 [ 0.000,  1.000], mean action: 2.466 [0.000, 5.000],  loss: 0.006954, mae: 0.077081, mean_q: 0.096379, mean_eps: 0.936851\n",
            "  71425/1000000: episode: 101, duration: 50.640s, episode steps: 864, steps per second:  17, episode reward: 12.000, mean reward:  0.014 [ 0.000,  1.000], mean action: 2.459 [0.000, 5.000],  loss: 0.007166, mae: 0.082030, mean_q: 0.104395, mean_eps: 0.936105\n",
            "  72182/1000000: episode: 102, duration: 44.225s, episode steps: 757, steps per second:  17, episode reward:  9.000, mean reward:  0.012 [ 0.000,  1.000], mean action: 2.547 [0.000, 5.000],  loss: 0.007053, mae: 0.083388, mean_q: 0.105702, mean_eps: 0.935376\n",
            "  73490/1000000: episode: 103, duration: 75.314s, episode steps: 1308, steps per second:  17, episode reward: 16.000, mean reward:  0.012 [ 0.000,  1.000], mean action: 2.575 [0.000, 5.000],  loss: 0.006932, mae: 0.083570, mean_q: 0.107010, mean_eps: 0.934448\n",
            "  73891/1000000: episode: 104, duration: 22.041s, episode steps: 401, steps per second:  18, episode reward:  4.000, mean reward:  0.010 [ 0.000,  1.000], mean action: 2.544 [0.000, 5.000],  loss: 0.006916, mae: 0.082037, mean_q: 0.103019, mean_eps: 0.933679\n",
            "  74738/1000000: episode: 105, duration: 50.523s, episode steps: 847, steps per second:  17, episode reward: 12.000, mean reward:  0.014 [ 0.000,  1.000], mean action: 2.342 [0.000, 5.000],  loss: 0.005936, mae: 0.080937, mean_q: 0.102295, mean_eps: 0.933117\n",
            "  75528/1000000: episode: 106, duration: 44.855s, episode steps: 790, steps per second:  18, episode reward:  6.000, mean reward:  0.008 [ 0.000,  1.000], mean action: 2.514 [0.000, 5.000],  loss: 0.007152, mae: 0.083153, mean_q: 0.104296, mean_eps: 0.932381\n",
            "  76285/1000000: episode: 107, duration: 41.984s, episode steps: 757, steps per second:  18, episode reward:  7.000, mean reward:  0.009 [ 0.000,  1.000], mean action: 2.474 [0.000, 5.000],  loss: 0.005992, mae: 0.081499, mean_q: 0.105932, mean_eps: 0.931685\n",
            "  76745/1000000: episode: 108, duration: 26.036s, episode steps: 460, steps per second:  18, episode reward:  6.000, mean reward:  0.013 [ 0.000,  1.000], mean action: 2.524 [0.000, 5.000],  loss: 0.005721, mae: 0.079092, mean_q: 0.099602, mean_eps: 0.931136\n",
            "  77514/1000000: episode: 109, duration: 44.238s, episode steps: 769, steps per second:  17, episode reward: 10.000, mean reward:  0.013 [ 0.000,  1.000], mean action: 2.455 [0.000, 5.000],  loss: 0.005369, mae: 0.079585, mean_q: 0.099747, mean_eps: 0.930583\n",
            "  78141/1000000: episode: 110, duration: 38.979s, episode steps: 627, steps per second:  16, episode reward:  8.000, mean reward:  0.013 [ 0.000,  1.000], mean action: 2.506 [0.000, 5.000],  loss: 0.006550, mae: 0.081724, mean_q: 0.103448, mean_eps: 0.929955\n",
            "  78764/1000000: episode: 111, duration: 36.857s, episode steps: 623, steps per second:  17, episode reward:  7.000, mean reward:  0.011 [ 0.000,  1.000], mean action: 2.533 [0.000, 5.000],  loss: 0.006806, mae: 0.083408, mean_q: 0.106205, mean_eps: 0.929393\n",
            "  79436/1000000: episode: 112, duration: 39.614s, episode steps: 672, steps per second:  17, episode reward:  9.000, mean reward:  0.013 [ 0.000,  1.000], mean action: 2.510 [0.000, 5.000],  loss: 0.006839, mae: 0.082651, mean_q: 0.105661, mean_eps: 0.928812\n",
            "  80311/1000000: episode: 113, duration: 51.437s, episode steps: 875, steps per second:  17, episode reward: 12.000, mean reward:  0.014 [ 0.000,  1.000], mean action: 2.386 [0.000, 5.000],  loss: 0.006066, mae: 0.086038, mean_q: 0.107548, mean_eps: 0.928115\n",
            "  81436/1000000: episode: 114, duration: 65.478s, episode steps: 1125, steps per second:  17, episode reward: 19.000, mean reward:  0.017 [ 0.000,  1.000], mean action: 2.459 [0.000, 5.000],  loss: 0.006295, mae: 0.096304, mean_q: 0.120184, mean_eps: 0.927215\n",
            "  81909/1000000: episode: 115, duration: 27.940s, episode steps: 473, steps per second:  17, episode reward:  4.000, mean reward:  0.008 [ 0.000,  1.000], mean action: 2.459 [0.000, 5.000],  loss: 0.005812, mae: 0.094922, mean_q: 0.121786, mean_eps: 0.926495\n",
            "  82667/1000000: episode: 116, duration: 45.605s, episode steps: 758, steps per second:  17, episode reward:  8.000, mean reward:  0.011 [ 0.000,  1.000], mean action: 2.596 [0.000, 5.000],  loss: 0.006141, mae: 0.095557, mean_q: 0.119901, mean_eps: 0.925941\n",
            "  83249/1000000: episode: 117, duration: 34.201s, episode steps: 582, steps per second:  17, episode reward:  7.000, mean reward:  0.012 [ 0.000,  1.000], mean action: 2.411 [0.000, 5.000],  loss: 0.006540, mae: 0.096696, mean_q: 0.122519, mean_eps: 0.925338\n",
            "  84073/1000000: episode: 118, duration: 48.629s, episode steps: 824, steps per second:  17, episode reward: 13.000, mean reward:  0.016 [ 0.000,  1.000], mean action: 2.524 [0.000, 5.000],  loss: 0.007422, mae: 0.099321, mean_q: 0.124440, mean_eps: 0.924704\n",
            "  85004/1000000: episode: 119, duration: 54.479s, episode steps: 931, steps per second:  17, episode reward: 16.000, mean reward:  0.017 [ 0.000,  1.000], mean action: 2.564 [0.000, 5.000],  loss: 0.005808, mae: 0.096128, mean_q: 0.121698, mean_eps: 0.923916\n",
            "  85575/1000000: episode: 120, duration: 34.440s, episode steps: 571, steps per second:  17, episode reward:  5.000, mean reward:  0.009 [ 0.000,  1.000], mean action: 2.545 [0.000, 5.000],  loss: 0.005395, mae: 0.094849, mean_q: 0.119041, mean_eps: 0.923241\n",
            "  86178/1000000: episode: 121, duration: 34.052s, episode steps: 603, steps per second:  18, episode reward:  9.000, mean reward:  0.015 [ 0.000,  1.000], mean action: 2.454 [0.000, 5.000],  loss: 0.006151, mae: 0.095980, mean_q: 0.120032, mean_eps: 0.922712\n",
            "  87363/1000000: episode: 122, duration: 70.091s, episode steps: 1185, steps per second:  17, episode reward: 20.000, mean reward:  0.017 [ 0.000,  1.000], mean action: 2.441 [0.000, 5.000],  loss: 0.006459, mae: 0.097629, mean_q: 0.122570, mean_eps: 0.921907\n",
            "  88143/1000000: episode: 123, duration: 45.992s, episode steps: 780, steps per second:  17, episode reward: 11.000, mean reward:  0.014 [ 0.000,  1.000], mean action: 2.399 [0.000, 5.000],  loss: 0.006290, mae: 0.097264, mean_q: 0.123730, mean_eps: 0.921023\n",
            "  89139/1000000: episode: 124, duration: 56.223s, episode steps: 996, steps per second:  18, episode reward: 17.000, mean reward:  0.017 [ 0.000,  1.000], mean action: 2.497 [0.000, 5.000],  loss: 0.007034, mae: 0.098858, mean_q: 0.124948, mean_eps: 0.920224\n",
            "  89791/1000000: episode: 125, duration: 36.684s, episode steps: 652, steps per second:  18, episode reward:  7.000, mean reward:  0.011 [ 0.000,  1.000], mean action: 2.515 [0.000, 5.000],  loss: 0.006839, mae: 0.099210, mean_q: 0.125505, mean_eps: 0.919482\n",
            "  90191/1000000: episode: 126, duration: 22.144s, episode steps: 400, steps per second:  18, episode reward:  6.000, mean reward:  0.015 [ 0.000,  1.000], mean action: 2.445 [0.000, 5.000],  loss: 0.005564, mae: 0.102032, mean_q: 0.128352, mean_eps: 0.919009\n",
            "  90832/1000000: episode: 127, duration: 37.368s, episode steps: 641, steps per second:  17, episode reward: 10.000, mean reward:  0.016 [ 0.000,  1.000], mean action: 2.326 [0.000, 5.000],  loss: 0.005248, mae: 0.112383, mean_q: 0.141878, mean_eps: 0.918541\n",
            "  91520/1000000: episode: 128, duration: 40.451s, episode steps: 688, steps per second:  17, episode reward: 11.000, mean reward:  0.016 [ 0.000,  1.000], mean action: 2.584 [0.000, 5.000],  loss: 0.005681, mae: 0.113344, mean_q: 0.142675, mean_eps: 0.917943\n",
            "  92447/1000000: episode: 129, duration: 54.623s, episode steps: 927, steps per second:  17, episode reward: 10.000, mean reward:  0.011 [ 0.000,  1.000], mean action: 2.448 [0.000, 5.000],  loss: 0.006380, mae: 0.116990, mean_q: 0.148008, mean_eps: 0.917216\n",
            "  93319/1000000: episode: 130, duration: 49.120s, episode steps: 872, steps per second:  18, episode reward: 13.000, mean reward:  0.015 [ 0.000,  1.000], mean action: 2.515 [0.000, 5.000],  loss: 0.005697, mae: 0.114802, mean_q: 0.144863, mean_eps: 0.916406\n",
            "  94006/1000000: episode: 131, duration: 39.318s, episode steps: 687, steps per second:  17, episode reward:  8.000, mean reward:  0.012 [ 0.000,  1.000], mean action: 2.552 [0.000, 5.000],  loss: 0.006260, mae: 0.116416, mean_q: 0.145183, mean_eps: 0.915704\n",
            "  94599/1000000: episode: 132, duration: 33.004s, episode steps: 593, steps per second:  18, episode reward:  8.000, mean reward:  0.013 [ 0.000,  1.000], mean action: 2.476 [0.000, 5.000],  loss: 0.005959, mae: 0.114961, mean_q: 0.145187, mean_eps: 0.915128\n",
            "  94979/1000000: episode: 133, duration: 22.495s, episode steps: 380, steps per second:  17, episode reward:  5.000, mean reward:  0.013 [ 0.000,  1.000], mean action: 2.316 [0.000, 5.000],  loss: 0.005779, mae: 0.114604, mean_q: 0.143793, mean_eps: 0.914691\n",
            "  95663/1000000: episode: 134, duration: 39.365s, episode steps: 684, steps per second:  17, episode reward:  7.000, mean reward:  0.010 [ 0.000,  1.000], mean action: 2.610 [0.000, 5.000],  loss: 0.004486, mae: 0.111136, mean_q: 0.139216, mean_eps: 0.914212\n",
            "  96218/1000000: episode: 135, duration: 30.749s, episode steps: 555, steps per second:  18, episode reward:  9.000, mean reward:  0.016 [ 0.000,  1.000], mean action: 2.447 [0.000, 5.000],  loss: 0.006465, mae: 0.116720, mean_q: 0.148093, mean_eps: 0.913654\n",
            "  97158/1000000: episode: 136, duration: 54.118s, episode steps: 940, steps per second:  17, episode reward: 15.000, mean reward:  0.016 [ 0.000,  1.000], mean action: 2.556 [0.000, 5.000],  loss: 0.007671, mae: 0.120554, mean_q: 0.150802, mean_eps: 0.912981\n",
            "  97863/1000000: episode: 137, duration: 40.350s, episode steps: 705, steps per second:  17, episode reward:  9.000, mean reward:  0.013 [ 0.000,  1.000], mean action: 2.587 [0.000, 5.000],  loss: 0.006610, mae: 0.117055, mean_q: 0.148344, mean_eps: 0.912241\n",
            "  98976/1000000: episode: 138, duration: 64.080s, episode steps: 1113, steps per second:  17, episode reward: 10.000, mean reward:  0.009 [ 0.000,  1.000], mean action: 2.527 [0.000, 5.000],  loss: 0.005961, mae: 0.114593, mean_q: 0.144476, mean_eps: 0.911424\n",
            "  99504/1000000: episode: 139, duration: 31.366s, episode steps: 528, steps per second:  17, episode reward:  6.000, mean reward:  0.011 [ 0.000,  1.000], mean action: 2.799 [0.000, 5.000],  loss: 0.007767, mae: 0.122096, mean_q: 0.153266, mean_eps: 0.910686\n",
            "  99992/1000000: episode: 140, duration: 28.422s, episode steps: 488, steps per second:  17, episode reward:  6.000, mean reward:  0.012 [ 0.000,  1.000], mean action: 2.385 [0.000, 5.000],  loss: 0.006155, mae: 0.117081, mean_q: 0.147000, mean_eps: 0.910229\n",
            " 100536/1000000: episode: 141, duration: 32.342s, episode steps: 544, steps per second:  17, episode reward:  5.000, mean reward:  0.009 [ 0.000,  1.000], mean action: 2.500 [0.000, 5.000],  loss: 0.007030, mae: 0.135063, mean_q: 0.171936, mean_eps: 0.909764\n",
            " 100945/1000000: episode: 142, duration: 22.480s, episode steps: 409, steps per second:  18, episode reward:  0.000, mean reward:  0.000 [ 0.000,  0.000], mean action: 2.399 [0.000, 5.000],  loss: 0.006770, mae: 0.139094, mean_q: 0.176815, mean_eps: 0.909334\n",
            " 101892/1000000: episode: 143, duration: 53.248s, episode steps: 947, steps per second:  18, episode reward:  7.000, mean reward:  0.007 [ 0.000,  1.000], mean action: 2.578 [0.000, 5.000],  loss: 0.005634, mae: 0.133948, mean_q: 0.171506, mean_eps: 0.908724\n",
            " 103144/1000000: episode: 144, duration: 70.775s, episode steps: 1252, steps per second:  18, episode reward: 16.000, mean reward:  0.013 [ 0.000,  1.000], mean action: 2.440 [0.000, 5.000],  loss: 0.006480, mae: 0.138565, mean_q: 0.177051, mean_eps: 0.907736\n",
            " 103720/1000000: episode: 145, duration: 33.222s, episode steps: 576, steps per second:  17, episode reward:  2.000, mean reward:  0.003 [ 0.000,  1.000], mean action: 2.569 [0.000, 5.000],  loss: 0.005745, mae: 0.134894, mean_q: 0.171768, mean_eps: 0.906913\n",
            " 104163/1000000: episode: 146, duration: 23.482s, episode steps: 443, steps per second:  19, episode reward:  5.000, mean reward:  0.011 [ 0.000,  1.000], mean action: 2.354 [0.000, 5.000],  loss: 0.005921, mae: 0.138496, mean_q: 0.177249, mean_eps: 0.906454\n",
            " 104786/1000000: episode: 147, duration: 35.038s, episode steps: 623, steps per second:  18, episode reward: 10.000, mean reward:  0.016 [ 0.000,  1.000], mean action: 2.546 [0.000, 5.000],  loss: 0.005176, mae: 0.133265, mean_q: 0.169661, mean_eps: 0.905973\n",
            " 105320/1000000: episode: 148, duration: 30.381s, episode steps: 534, steps per second:  18, episode reward:  6.000, mean reward:  0.011 [ 0.000,  1.000], mean action: 2.579 [0.000, 5.000],  loss: 0.005688, mae: 0.134502, mean_q: 0.168213, mean_eps: 0.905453\n",
            " 105915/1000000: episode: 149, duration: 32.909s, episode steps: 595, steps per second:  18, episode reward:  4.000, mean reward:  0.007 [ 0.000,  1.000], mean action: 2.573 [0.000, 5.000],  loss: 0.007247, mae: 0.140255, mean_q: 0.177289, mean_eps: 0.904946\n",
            " 106544/1000000: episode: 150, duration: 36.326s, episode steps: 629, steps per second:  17, episode reward:  9.000, mean reward:  0.014 [ 0.000,  1.000], mean action: 2.488 [0.000, 5.000],  loss: 0.006545, mae: 0.137579, mean_q: 0.171058, mean_eps: 0.904395\n",
            " 107267/1000000: episode: 151, duration: 40.468s, episode steps: 723, steps per second:  18, episode reward: 10.000, mean reward:  0.014 [ 0.000,  1.000], mean action: 2.367 [0.000, 5.000],  loss: 0.005576, mae: 0.134667, mean_q: 0.169632, mean_eps: 0.903786\n",
            " 107943/1000000: episode: 152, duration: 37.316s, episode steps: 676, steps per second:  18, episode reward:  6.000, mean reward:  0.009 [ 0.000,  1.000], mean action: 2.405 [0.000, 5.000],  loss: 0.006679, mae: 0.138653, mean_q: 0.174091, mean_eps: 0.903156\n",
            " 108588/1000000: episode: 153, duration: 36.268s, episode steps: 645, steps per second:  18, episode reward:  6.000, mean reward:  0.009 [ 0.000,  1.000], mean action: 2.536 [0.000, 5.000],  loss: 0.006425, mae: 0.137427, mean_q: 0.172969, mean_eps: 0.902562\n",
            " 109291/1000000: episode: 154, duration: 40.554s, episode steps: 703, steps per second:  17, episode reward: 10.000, mean reward:  0.014 [ 0.000,  1.000], mean action: 2.499 [0.000, 5.000],  loss: 0.006142, mae: 0.138652, mean_q: 0.173401, mean_eps: 0.901956\n",
            " 109780/1000000: episode: 155, duration: 28.799s, episode steps: 489, steps per second:  17, episode reward: 11.000, mean reward:  0.022 [ 0.000,  1.000], mean action: 2.499 [0.000, 5.000],  loss: 0.007037, mae: 0.137701, mean_q: 0.172036, mean_eps: 0.901419\n",
            " 110528/1000000: episode: 156, duration: 42.813s, episode steps: 748, steps per second:  17, episode reward: 10.000, mean reward:  0.013 [ 0.000,  1.000], mean action: 2.366 [0.000, 5.000],  loss: 0.006084, mae: 0.154717, mean_q: 0.193740, mean_eps: 0.900863\n",
            " 111325/1000000: episode: 157, duration: 45.786s, episode steps: 797, steps per second:  17, episode reward: 14.000, mean reward:  0.018 [ 0.000,  1.000], mean action: 2.438 [0.000, 5.000],  loss: 0.006159, mae: 0.162904, mean_q: 0.204423, mean_eps: 0.900167\n",
            " 111955/1000000: episode: 158, duration: 37.654s, episode steps: 630, steps per second:  17, episode reward:  7.000, mean reward:  0.011 [ 0.000,  1.000], mean action: 2.397 [0.000, 5.000],  loss: 0.006619, mae: 0.165149, mean_q: 0.206074, mean_eps: 0.899524\n",
            " 112776/1000000: episode: 159, duration: 48.027s, episode steps: 821, steps per second:  17, episode reward: 16.000, mean reward:  0.019 [ 0.000,  1.000], mean action: 2.509 [0.000, 5.000],  loss: 0.006674, mae: 0.167088, mean_q: 0.208811, mean_eps: 0.898872\n",
            " 113381/1000000: episode: 160, duration: 36.188s, episode steps: 605, steps per second:  17, episode reward:  9.000, mean reward:  0.015 [ 0.000,  1.000], mean action: 2.407 [0.000, 5.000],  loss: 0.007599, mae: 0.170033, mean_q: 0.213146, mean_eps: 0.898230\n",
            " 113913/1000000: episode: 161, duration: 32.019s, episode steps: 532, steps per second:  17, episode reward:  6.000, mean reward:  0.011 [ 0.000,  1.000], mean action: 2.615 [0.000, 5.000],  loss: 0.007626, mae: 0.169056, mean_q: 0.212702, mean_eps: 0.897717\n",
            " 114566/1000000: episode: 162, duration: 40.857s, episode steps: 653, steps per second:  16, episode reward:  8.000, mean reward:  0.012 [ 0.000,  1.000], mean action: 2.623 [0.000, 5.000],  loss: 0.007525, mae: 0.168191, mean_q: 0.210892, mean_eps: 0.897184\n",
            " 115377/1000000: episode: 163, duration: 48.393s, episode steps: 811, steps per second:  17, episode reward: 10.000, mean reward:  0.012 [ 0.000,  1.000], mean action: 2.467 [0.000, 5.000],  loss: 0.007117, mae: 0.168748, mean_q: 0.209247, mean_eps: 0.896525\n",
            " 116218/1000000: episode: 164, duration: 47.725s, episode steps: 841, steps per second:  18, episode reward: 12.000, mean reward:  0.014 [ 0.000,  1.000], mean action: 2.440 [0.000, 5.000],  loss: 0.005819, mae: 0.162682, mean_q: 0.203239, mean_eps: 0.895782\n",
            " 116967/1000000: episode: 165, duration: 43.488s, episode steps: 749, steps per second:  17, episode reward: 10.000, mean reward:  0.013 [ 0.000,  1.000], mean action: 2.615 [0.000, 5.000],  loss: 0.006569, mae: 0.166483, mean_q: 0.208794, mean_eps: 0.895067\n",
            " 117710/1000000: episode: 166, duration: 45.183s, episode steps: 743, steps per second:  16, episode reward:  7.000, mean reward:  0.009 [ 0.000,  1.000], mean action: 2.428 [0.000, 5.000],  loss: 0.005472, mae: 0.163227, mean_q: 0.204640, mean_eps: 0.894396\n",
            " 118572/1000000: episode: 167, duration: 53.705s, episode steps: 862, steps per second:  16, episode reward:  9.000, mean reward:  0.010 [ 0.000,  1.000], mean action: 2.447 [0.000, 5.000],  loss: 0.006148, mae: 0.166412, mean_q: 0.207490, mean_eps: 0.893674\n",
            " 119411/1000000: episode: 168, duration: 48.641s, episode steps: 839, steps per second:  17, episode reward: 16.000, mean reward:  0.019 [ 0.000,  1.000], mean action: 2.472 [0.000, 5.000],  loss: 0.005885, mae: 0.166488, mean_q: 0.206937, mean_eps: 0.892909\n",
            " 120573/1000000: episode: 169, duration: 69.856s, episode steps: 1162, steps per second:  17, episode reward: 17.000, mean reward:  0.015 [ 0.000,  1.000], mean action: 2.504 [0.000, 5.000],  loss: 0.006731, mae: 0.175393, mean_q: 0.218799, mean_eps: 0.892007\n",
            " 120968/1000000: episode: 170, duration: 23.978s, episode steps: 395, steps per second:  16, episode reward:  6.000, mean reward:  0.015 [ 0.000,  1.000], mean action: 2.592 [0.000, 5.000],  loss: 0.006836, mae: 0.187421, mean_q: 0.234638, mean_eps: 0.891307\n",
            " 121465/1000000: episode: 171, duration: 30.026s, episode steps: 497, steps per second:  17, episode reward:  3.000, mean reward:  0.006 [ 0.000,  1.000], mean action: 2.515 [0.000, 5.000],  loss: 0.006340, mae: 0.187453, mean_q: 0.231852, mean_eps: 0.890906\n",
            " 121869/1000000: episode: 172, duration: 25.476s, episode steps: 404, steps per second:  16, episode reward:  3.000, mean reward:  0.007 [ 0.000,  1.000], mean action: 2.488 [0.000, 5.000],  loss: 0.006980, mae: 0.188486, mean_q: 0.236030, mean_eps: 0.890499\n",
            " 123032/1000000: episode: 173, duration: 72.583s, episode steps: 1163, steps per second:  16, episode reward: 14.000, mean reward:  0.012 [ 0.000,  1.000], mean action: 2.470 [0.000, 5.000],  loss: 0.005917, mae: 0.184692, mean_q: 0.232708, mean_eps: 0.889795\n",
            " 123854/1000000: episode: 174, duration: 49.530s, episode steps: 822, steps per second:  17, episode reward: 14.000, mean reward:  0.017 [ 0.000,  1.000], mean action: 2.443 [0.000, 5.000],  loss: 0.007165, mae: 0.187199, mean_q: 0.232518, mean_eps: 0.888902\n",
            " 124220/1000000: episode: 175, duration: 23.009s, episode steps: 366, steps per second:  16, episode reward:  5.000, mean reward:  0.014 [ 0.000,  1.000], mean action: 2.653 [0.000, 5.000],  loss: 0.006183, mae: 0.188532, mean_q: 0.235340, mean_eps: 0.888368\n",
            " 124722/1000000: episode: 176, duration: 30.213s, episode steps: 502, steps per second:  17, episode reward: 10.000, mean reward:  0.020 [ 0.000,  1.000], mean action: 2.371 [0.000, 5.000],  loss: 0.006261, mae: 0.183832, mean_q: 0.226899, mean_eps: 0.887977\n",
            " 125474/1000000: episode: 177, duration: 43.690s, episode steps: 752, steps per second:  17, episode reward: 13.000, mean reward:  0.017 [ 0.000,  1.000], mean action: 2.484 [0.000, 5.000],  loss: 0.005536, mae: 0.183710, mean_q: 0.227287, mean_eps: 0.887412\n",
            " 126091/1000000: episode: 178, duration: 36.818s, episode steps: 617, steps per second:  17, episode reward:  8.000, mean reward:  0.013 [ 0.000,  1.000], mean action: 2.582 [0.000, 5.000],  loss: 0.005702, mae: 0.184858, mean_q: 0.228475, mean_eps: 0.886796\n",
            " 126460/1000000: episode: 179, duration: 20.206s, episode steps: 369, steps per second:  18, episode reward:  6.000, mean reward:  0.016 [ 0.000,  1.000], mean action: 2.572 [0.000, 5.000],  loss: 0.005831, mae: 0.183843, mean_q: 0.227830, mean_eps: 0.886353\n",
            " 126871/1000000: episode: 180, duration: 26.450s, episode steps: 411, steps per second:  16, episode reward:  4.000, mean reward:  0.010 [ 0.000,  1.000], mean action: 2.518 [0.000, 5.000],  loss: 0.005638, mae: 0.180987, mean_q: 0.226447, mean_eps: 0.886002\n",
            " 128144/1000000: episode: 181, duration: 80.707s, episode steps: 1273, steps per second:  16, episode reward: 21.000, mean reward:  0.016 [ 0.000,  1.000], mean action: 2.521 [0.000, 5.000],  loss: 0.006491, mae: 0.183866, mean_q: 0.228667, mean_eps: 0.885245\n",
            " 128950/1000000: episode: 182, duration: 48.792s, episode steps: 806, steps per second:  17, episode reward: 10.000, mean reward:  0.012 [ 0.000,  1.000], mean action: 2.453 [0.000, 5.000],  loss: 0.006843, mae: 0.185836, mean_q: 0.230198, mean_eps: 0.884309\n",
            " 129812/1000000: episode: 183, duration: 54.384s, episode steps: 862, steps per second:  16, episode reward: 18.000, mean reward:  0.021 [ 0.000,  1.000], mean action: 2.456 [0.000, 5.000],  loss: 0.005741, mae: 0.185406, mean_q: 0.229912, mean_eps: 0.883558\n",
            " 130907/1000000: episode: 184, duration: 67.832s, episode steps: 1095, steps per second:  16, episode reward: 21.000, mean reward:  0.019 [ 0.000,  1.000], mean action: 2.626 [0.000, 5.000],  loss: 0.008234, mae: 0.212912, mean_q: 0.265151, mean_eps: 0.882678\n",
            " 131624/1000000: episode: 185, duration: 44.650s, episode steps: 717, steps per second:  16, episode reward: 10.000, mean reward:  0.014 [ 0.000,  1.000], mean action: 2.603 [0.000, 5.000],  loss: 0.006879, mae: 0.210864, mean_q: 0.260823, mean_eps: 0.881862\n",
            " 132396/1000000: episode: 186, duration: 47.238s, episode steps: 772, steps per second:  16, episode reward:  9.000, mean reward:  0.012 [ 0.000,  1.000], mean action: 2.385 [0.000, 5.000],  loss: 0.007520, mae: 0.215093, mean_q: 0.264808, mean_eps: 0.881193\n",
            " 133068/1000000: episode: 187, duration: 42.605s, episode steps: 672, steps per second:  16, episode reward: 10.000, mean reward:  0.015 [ 0.000,  1.000], mean action: 2.372 [0.000, 5.000],  loss: 0.007679, mae: 0.217022, mean_q: 0.267050, mean_eps: 0.880543\n",
            " 133658/1000000: episode: 188, duration: 37.407s, episode steps: 590, steps per second:  16, episode reward: 12.000, mean reward:  0.020 [ 0.000,  1.000], mean action: 2.554 [0.000, 5.000],  loss: 0.007553, mae: 0.213846, mean_q: 0.264997, mean_eps: 0.879974\n",
            " 134569/1000000: episode: 189, duration: 56.836s, episode steps: 911, steps per second:  16, episode reward: 15.000, mean reward:  0.016 [ 0.000,  1.000], mean action: 2.501 [0.000, 5.000],  loss: 0.007153, mae: 0.214731, mean_q: 0.265819, mean_eps: 0.879297\n",
            " 135217/1000000: episode: 190, duration: 40.463s, episode steps: 648, steps per second:  16, episode reward:  9.000, mean reward:  0.014 [ 0.000,  1.000], mean action: 2.278 [0.000, 5.000],  loss: 0.006159, mae: 0.210058, mean_q: 0.259457, mean_eps: 0.878595\n",
            " 135599/1000000: episode: 191, duration: 22.953s, episode steps: 382, steps per second:  17, episode reward:  7.000, mean reward:  0.018 [ 0.000,  1.000], mean action: 2.346 [0.000, 5.000],  loss: 0.008112, mae: 0.216438, mean_q: 0.269556, mean_eps: 0.878133\n",
            " 136252/1000000: episode: 192, duration: 40.582s, episode steps: 653, steps per second:  16, episode reward:  7.000, mean reward:  0.011 [ 0.000,  1.000], mean action: 2.547 [0.000, 5.000],  loss: 0.005945, mae: 0.209224, mean_q: 0.257934, mean_eps: 0.877668\n",
            " 137342/1000000: episode: 193, duration: 70.840s, episode steps: 1090, steps per second:  15, episode reward: 14.000, mean reward:  0.013 [ 0.000,  1.000], mean action: 2.546 [0.000, 5.000],  loss: 0.006001, mae: 0.207432, mean_q: 0.256605, mean_eps: 0.876884\n",
            " 138409/1000000: episode: 194, duration: 68.490s, episode steps: 1067, steps per second:  16, episode reward: 18.000, mean reward:  0.017 [ 0.000,  1.000], mean action: 2.513 [0.000, 5.000],  loss: 0.006828, mae: 0.212154, mean_q: 0.262337, mean_eps: 0.875912\n",
            " 138949/1000000: episode: 195, duration: 33.322s, episode steps: 540, steps per second:  16, episode reward:  6.000, mean reward:  0.011 [ 0.000,  1.000], mean action: 2.357 [0.000, 5.000],  loss: 0.008056, mae: 0.219341, mean_q: 0.271931, mean_eps: 0.875188\n",
            " 139591/1000000: episode: 196, duration: 40.708s, episode steps: 642, steps per second:  16, episode reward: 13.000, mean reward:  0.020 [ 0.000,  1.000], mean action: 2.458 [0.000, 5.000],  loss: 0.008497, mae: 0.218457, mean_q: 0.269772, mean_eps: 0.874657\n",
            " 140254/1000000: episode: 197, duration: 41.486s, episode steps: 663, steps per second:  16, episode reward:  5.000, mean reward:  0.008 [ 0.000,  1.000], mean action: 2.460 [0.000, 5.000],  loss: 0.007509, mae: 0.225175, mean_q: 0.279422, mean_eps: 0.874070\n",
            " 140753/1000000: episode: 198, duration: 31.383s, episode steps: 499, steps per second:  16, episode reward:  4.000, mean reward:  0.008 [ 0.000,  1.000], mean action: 2.367 [0.000, 5.000],  loss: 0.007624, mae: 0.246515, mean_q: 0.308466, mean_eps: 0.873546\n",
            " 141568/1000000: episode: 199, duration: 53.145s, episode steps: 815, steps per second:  15, episode reward: 13.000, mean reward:  0.016 [ 0.000,  1.000], mean action: 2.557 [0.000, 5.000],  loss: 0.008249, mae: 0.252198, mean_q: 0.311229, mean_eps: 0.872956\n",
            " 142096/1000000: episode: 200, duration: 31.658s, episode steps: 528, steps per second:  17, episode reward:  6.000, mean reward:  0.011 [ 0.000,  1.000], mean action: 2.608 [0.000, 5.000],  loss: 0.006968, mae: 0.244451, mean_q: 0.302592, mean_eps: 0.872353\n",
            " 142861/1000000: episode: 201, duration: 48.429s, episode steps: 765, steps per second:  16, episode reward:  7.000, mean reward:  0.009 [ 0.000,  1.000], mean action: 2.546 [0.000, 5.000],  loss: 0.007743, mae: 0.249920, mean_q: 0.307771, mean_eps: 0.871770\n",
            " 143681/1000000: episode: 202, duration: 49.735s, episode steps: 820, steps per second:  16, episode reward: 11.000, mean reward:  0.013 [ 0.000,  1.000], mean action: 2.580 [0.000, 5.000],  loss: 0.007683, mae: 0.248999, mean_q: 0.307425, mean_eps: 0.871055\n",
            " 144056/1000000: episode: 203, duration: 24.040s, episode steps: 375, steps per second:  16, episode reward:  8.000, mean reward:  0.021 [ 0.000,  1.000], mean action: 2.616 [0.000, 5.000],  loss: 0.006640, mae: 0.241413, mean_q: 0.296647, mean_eps: 0.870519\n",
            " 144733/1000000: episode: 204, duration: 41.645s, episode steps: 677, steps per second:  16, episode reward:  8.000, mean reward:  0.012 [ 0.000,  1.000], mean action: 2.597 [0.000, 5.000],  loss: 0.007931, mae: 0.250266, mean_q: 0.309363, mean_eps: 0.870045\n",
            " 145213/1000000: episode: 205, duration: 29.341s, episode steps: 480, steps per second:  16, episode reward:  6.000, mean reward:  0.013 [ 0.000,  1.000], mean action: 2.612 [0.000, 5.000],  loss: 0.006168, mae: 0.244345, mean_q: 0.301820, mean_eps: 0.869523\n",
            " 146275/1000000: episode: 206, duration: 65.028s, episode steps: 1062, steps per second:  16, episode reward: 17.000, mean reward:  0.016 [ 0.000,  1.000], mean action: 2.541 [0.000, 5.000],  loss: 0.007509, mae: 0.251927, mean_q: 0.312184, mean_eps: 0.868830\n",
            " 147003/1000000: episode: 207, duration: 45.913s, episode steps: 728, steps per second:  16, episode reward: 14.000, mean reward:  0.019 [ 0.000,  1.000], mean action: 2.346 [0.000, 5.000],  loss: 0.007372, mae: 0.250665, mean_q: 0.308681, mean_eps: 0.868026\n",
            " 147340/1000000: episode: 208, duration: 20.856s, episode steps: 337, steps per second:  16, episode reward:  5.000, mean reward:  0.015 [ 0.000,  1.000], mean action: 2.487 [0.000, 5.000],  loss: 0.007547, mae: 0.251263, mean_q: 0.309607, mean_eps: 0.867547\n",
            " 148178/1000000: episode: 209, duration: 53.024s, episode steps: 838, steps per second:  16, episode reward: 12.000, mean reward:  0.014 [ 0.000,  1.000], mean action: 2.566 [0.000, 5.000],  loss: 0.008150, mae: 0.250379, mean_q: 0.308823, mean_eps: 0.867018\n",
            " 148796/1000000: episode: 210, duration: 39.283s, episode steps: 618, steps per second:  16, episode reward:  3.000, mean reward:  0.005 [ 0.000,  1.000], mean action: 2.553 [0.000, 5.000],  loss: 0.007265, mae: 0.246654, mean_q: 0.304370, mean_eps: 0.866363\n",
            " 149498/1000000: episode: 211, duration: 43.423s, episode steps: 702, steps per second:  16, episode reward: 11.000, mean reward:  0.016 [ 0.000,  1.000], mean action: 2.301 [0.000, 5.000],  loss: 0.008620, mae: 0.248906, mean_q: 0.308113, mean_eps: 0.865769\n",
            " 150096/1000000: episode: 212, duration: 36.981s, episode steps: 598, steps per second:  16, episode reward:  7.000, mean reward:  0.012 [ 0.000,  1.000], mean action: 2.463 [0.000, 5.000],  loss: 0.007431, mae: 0.254885, mean_q: 0.316513, mean_eps: 0.865184\n",
            " 150566/1000000: episode: 213, duration: 29.106s, episode steps: 470, steps per second:  16, episode reward:  9.000, mean reward:  0.019 [ 0.000,  1.000], mean action: 2.411 [0.000, 5.000],  loss: 0.007522, mae: 0.280890, mean_q: 0.348690, mean_eps: 0.864703\n",
            " 151729/1000000: episode: 214, duration: 68.688s, episode steps: 1163, steps per second:  17, episode reward: 17.000, mean reward:  0.015 [ 0.000,  1.000], mean action: 2.527 [0.000, 5.000],  loss: 0.008158, mae: 0.286778, mean_q: 0.353972, mean_eps: 0.863967\n",
            " 152301/1000000: episode: 215, duration: 36.280s, episode steps: 572, steps per second:  16, episode reward:  5.000, mean reward:  0.009 [ 0.000,  1.000], mean action: 2.610 [0.000, 5.000],  loss: 0.009673, mae: 0.289392, mean_q: 0.353753, mean_eps: 0.863186\n",
            " 152906/1000000: episode: 216, duration: 34.226s, episode steps: 605, steps per second:  18, episode reward: 11.000, mean reward:  0.018 [ 0.000,  1.000], mean action: 2.550 [0.000, 5.000],  loss: 0.008050, mae: 0.282976, mean_q: 0.349371, mean_eps: 0.862656\n",
            " 153383/1000000: episode: 217, duration: 30.088s, episode steps: 477, steps per second:  16, episode reward:  4.000, mean reward:  0.008 [ 0.000,  1.000], mean action: 2.675 [0.000, 5.000],  loss: 0.009516, mae: 0.289726, mean_q: 0.356753, mean_eps: 0.862170\n",
            " 154072/1000000: episode: 218, duration: 41.295s, episode steps: 689, steps per second:  17, episode reward: 11.000, mean reward:  0.016 [ 0.000,  1.000], mean action: 2.361 [0.000, 5.000],  loss: 0.007847, mae: 0.284434, mean_q: 0.354179, mean_eps: 0.861647\n",
            " 155266/1000000: episode: 219, duration: 73.416s, episode steps: 1194, steps per second:  16, episode reward: 21.000, mean reward:  0.018 [ 0.000,  1.000], mean action: 2.432 [0.000, 5.000],  loss: 0.008105, mae: 0.286375, mean_q: 0.353022, mean_eps: 0.860799\n",
            " 156650/1000000: episode: 220, duration: 80.216s, episode steps: 1384, steps per second:  17, episode reward: 14.000, mean reward:  0.010 [ 0.000,  1.000], mean action: 2.522 [0.000, 5.000],  loss: 0.007489, mae: 0.282938, mean_q: 0.349522, mean_eps: 0.859638\n",
            " 157065/1000000: episode: 221, duration: 25.534s, episode steps: 415, steps per second:  16, episode reward:  7.000, mean reward:  0.017 [ 0.000,  1.000], mean action: 2.706 [0.000, 5.000],  loss: 0.008523, mae: 0.285672, mean_q: 0.351263, mean_eps: 0.858828\n",
            " 157669/1000000: episode: 222, duration: 37.284s, episode steps: 604, steps per second:  16, episode reward:  7.000, mean reward:  0.012 [ 0.000,  1.000], mean action: 2.546 [0.000, 5.000],  loss: 0.007128, mae: 0.281232, mean_q: 0.345184, mean_eps: 0.858369\n",
            " 159019/1000000: episode: 223, duration: 82.511s, episode steps: 1350, steps per second:  16, episode reward: 17.000, mean reward:  0.013 [ 0.000,  1.000], mean action: 2.466 [0.000, 5.000],  loss: 0.007061, mae: 0.280860, mean_q: 0.346321, mean_eps: 0.857490\n",
            " 159758/1000000: episode: 224, duration: 44.319s, episode steps: 739, steps per second:  17, episode reward:  7.000, mean reward:  0.009 [ 0.000,  1.000], mean action: 2.506 [0.000, 5.000],  loss: 0.006496, mae: 0.278539, mean_q: 0.343252, mean_eps: 0.856551\n",
            " 160371/1000000: episode: 225, duration: 36.009s, episode steps: 613, steps per second:  17, episode reward:  8.000, mean reward:  0.013 [ 0.000,  1.000], mean action: 2.452 [0.000, 5.000],  loss: 0.008881, mae: 0.309404, mean_q: 0.380725, mean_eps: 0.855942\n",
            " 160967/1000000: episode: 226, duration: 37.193s, episode steps: 596, steps per second:  16, episode reward:  8.000, mean reward:  0.013 [ 0.000,  1.000], mean action: 2.544 [0.000, 5.000],  loss: 0.009158, mae: 0.318388, mean_q: 0.392727, mean_eps: 0.855399\n",
            " 161610/1000000: episode: 227, duration: 38.953s, episode steps: 643, steps per second:  17, episode reward:  7.000, mean reward:  0.011 [ 0.000,  1.000], mean action: 2.398 [0.000, 5.000],  loss: 0.008866, mae: 0.315436, mean_q: 0.388263, mean_eps: 0.854841\n",
            " 162008/1000000: episode: 228, duration: 23.060s, episode steps: 398, steps per second:  17, episode reward:  5.000, mean reward:  0.013 [ 0.000,  1.000], mean action: 2.520 [0.000, 5.000],  loss: 0.007031, mae: 0.311656, mean_q: 0.384685, mean_eps: 0.854373\n",
            " 162693/1000000: episode: 229, duration: 40.517s, episode steps: 685, steps per second:  17, episode reward: 11.000, mean reward:  0.016 [ 0.000,  1.000], mean action: 2.536 [0.000, 5.000],  loss: 0.007311, mae: 0.318322, mean_q: 0.391924, mean_eps: 0.853885\n",
            " 163533/1000000: episode: 230, duration: 51.129s, episode steps: 840, steps per second:  16, episode reward: 14.000, mean reward:  0.017 [ 0.000,  1.000], mean action: 2.543 [0.000, 5.000],  loss: 0.008366, mae: 0.317393, mean_q: 0.390967, mean_eps: 0.853197\n",
            " 164453/1000000: episode: 231, duration: 55.984s, episode steps: 920, steps per second:  16, episode reward: 12.000, mean reward:  0.013 [ 0.000,  1.000], mean action: 2.366 [0.000, 5.000],  loss: 0.007898, mae: 0.316902, mean_q: 0.390202, mean_eps: 0.852405\n",
            " 164983/1000000: episode: 232, duration: 31.172s, episode steps: 530, steps per second:  17, episode reward:  8.000, mean reward:  0.015 [ 0.000,  1.000], mean action: 2.721 [0.000, 5.000],  loss: 0.007563, mae: 0.323713, mean_q: 0.396984, mean_eps: 0.851754\n",
            " 165805/1000000: episode: 233, duration: 50.315s, episode steps: 822, steps per second:  16, episode reward: 14.000, mean reward:  0.017 [ 0.000,  1.000], mean action: 2.471 [0.000, 5.000],  loss: 0.007498, mae: 0.317782, mean_q: 0.389113, mean_eps: 0.851145\n",
            " 166355/1000000: episode: 234, duration: 32.562s, episode steps: 550, steps per second:  17, episode reward:  8.000, mean reward:  0.015 [ 0.000,  1.000], mean action: 2.409 [0.000, 5.000],  loss: 0.008153, mae: 0.314290, mean_q: 0.385731, mean_eps: 0.850528\n",
            " 167300/1000000: episode: 235, duration: 57.995s, episode steps: 945, steps per second:  16, episode reward: 16.000, mean reward:  0.017 [ 0.000,  1.000], mean action: 2.575 [0.000, 5.000],  loss: 0.008582, mae: 0.318199, mean_q: 0.390916, mean_eps: 0.849857\n",
            " 167785/1000000: episode: 236, duration: 30.312s, episode steps: 485, steps per second:  16, episode reward:  6.000, mean reward:  0.012 [ 0.000,  1.000], mean action: 2.507 [0.000, 5.000],  loss: 0.008319, mae: 0.321242, mean_q: 0.395497, mean_eps: 0.849212\n",
            " 168457/1000000: episode: 237, duration: 40.251s, episode steps: 672, steps per second:  17, episode reward:  9.000, mean reward:  0.013 [ 0.000,  1.000], mean action: 2.501 [0.000, 5.000],  loss: 0.007414, mae: 0.316461, mean_q: 0.389284, mean_eps: 0.848690\n",
            " 169187/1000000: episode: 238, duration: 45.534s, episode steps: 730, steps per second:  16, episode reward: 13.000, mean reward:  0.018 [ 0.000,  1.000], mean action: 2.564 [0.000, 5.000],  loss: 0.007705, mae: 0.318358, mean_q: 0.391629, mean_eps: 0.848060\n",
            " 170080/1000000: episode: 239, duration: 58.213s, episode steps: 893, steps per second:  15, episode reward: 14.000, mean reward:  0.016 [ 0.000,  1.000], mean action: 2.417 [0.000, 5.000],  loss: 0.008077, mae: 0.318753, mean_q: 0.391682, mean_eps: 0.847331\n",
            " 170537/1000000: episode: 240, duration: 28.450s, episode steps: 457, steps per second:  16, episode reward:  6.000, mean reward:  0.013 [ 0.000,  1.000], mean action: 2.630 [0.000, 5.000],  loss: 0.008554, mae: 0.320899, mean_q: 0.394424, mean_eps: 0.846723\n",
            "done, took 7594.797 seconds\n",
            "\n",
            "Training finished. Final weights saved to: /content/gdrive/My Drive/08_MIAR/actividades/proyecto practico/dqn_SpaceInvaders-v0_final_weights.h5f\n",
            "\n",
            "Starting testing...\n",
            "Testing for 10 episodes ...\n"
          ]
        },
        {
          "output_type": "error",
          "ename": "KeyboardInterrupt",
          "evalue": "",
          "traceback": [
            "\u001b[0;31m---------------------------------------------------------------------------\u001b[0m",
            "\u001b[0;31mKeyboardInterrupt\u001b[0m                         Traceback (most recent call last)",
            "\u001b[0;32m<ipython-input-16-1498096530>\u001b[0m in \u001b[0;36m<cell line: 0>\u001b[0;34m()\u001b[0m\n\u001b[1;32m     32\u001b[0m \u001b[0;31m# Load the final weights for testing (or a specific checkpoint if you want to test an intermediate model)\u001b[0m\u001b[0;34m\u001b[0m\u001b[0;34m\u001b[0m\u001b[0m\n\u001b[1;32m     33\u001b[0m \u001b[0mdqn\u001b[0m\u001b[0;34m.\u001b[0m\u001b[0mload_weights\u001b[0m\u001b[0;34m(\u001b[0m\u001b[0mfinal_weights_filename\u001b[0m\u001b[0;34m)\u001b[0m \u001b[0;31m# Load the final weights saved above\u001b[0m\u001b[0;34m\u001b[0m\u001b[0;34m\u001b[0m\u001b[0m\n\u001b[0;32m---> 34\u001b[0;31m \u001b[0mdqn\u001b[0m\u001b[0;34m.\u001b[0m\u001b[0mtest\u001b[0m\u001b[0;34m(\u001b[0m\u001b[0menv\u001b[0m\u001b[0;34m,\u001b[0m \u001b[0mnb_episodes\u001b[0m\u001b[0;34m=\u001b[0m\u001b[0;36m10\u001b[0m\u001b[0;34m,\u001b[0m \u001b[0mvisualize\u001b[0m\u001b[0;34m=\u001b[0m\u001b[0;32mFalse\u001b[0m\u001b[0;34m)\u001b[0m\u001b[0;34m\u001b[0m\u001b[0;34m\u001b[0m\u001b[0m\n\u001b[0m\u001b[1;32m     35\u001b[0m \u001b[0mprint\u001b[0m\u001b[0;34m(\u001b[0m\u001b[0;34m\"Testing complete.\"\u001b[0m\u001b[0;34m)\u001b[0m\u001b[0;34m\u001b[0m\u001b[0;34m\u001b[0m\u001b[0m\n",
            "\u001b[0;32m/usr/local/lib/python3.11/dist-packages/rl/core.py\u001b[0m in \u001b[0;36mtest\u001b[0;34m(self, env, nb_episodes, action_repetition, callbacks, visualize, nb_max_episode_steps, nb_max_start_steps, start_step_policy, verbose)\u001b[0m\n\u001b[1;32m    339\u001b[0m                 \u001b[0mcallbacks\u001b[0m\u001b[0;34m.\u001b[0m\u001b[0mon_step_begin\u001b[0m\u001b[0;34m(\u001b[0m\u001b[0mepisode_step\u001b[0m\u001b[0;34m)\u001b[0m\u001b[0;34m\u001b[0m\u001b[0;34m\u001b[0m\u001b[0m\n\u001b[1;32m    340\u001b[0m \u001b[0;34m\u001b[0m\u001b[0m\n\u001b[0;32m--> 341\u001b[0;31m                 \u001b[0maction\u001b[0m \u001b[0;34m=\u001b[0m \u001b[0mself\u001b[0m\u001b[0;34m.\u001b[0m\u001b[0mforward\u001b[0m\u001b[0;34m(\u001b[0m\u001b[0mobservation\u001b[0m\u001b[0;34m)\u001b[0m\u001b[0;34m\u001b[0m\u001b[0;34m\u001b[0m\u001b[0m\n\u001b[0m\u001b[1;32m    342\u001b[0m                 \u001b[0;32mif\u001b[0m \u001b[0mself\u001b[0m\u001b[0;34m.\u001b[0m\u001b[0mprocessor\u001b[0m \u001b[0;32mis\u001b[0m \u001b[0;32mnot\u001b[0m \u001b[0;32mNone\u001b[0m\u001b[0;34m:\u001b[0m\u001b[0;34m\u001b[0m\u001b[0;34m\u001b[0m\u001b[0m\n\u001b[1;32m    343\u001b[0m                     \u001b[0maction\u001b[0m \u001b[0;34m=\u001b[0m \u001b[0mself\u001b[0m\u001b[0;34m.\u001b[0m\u001b[0mprocessor\u001b[0m\u001b[0;34m.\u001b[0m\u001b[0mprocess_action\u001b[0m\u001b[0;34m(\u001b[0m\u001b[0maction\u001b[0m\u001b[0;34m)\u001b[0m\u001b[0;34m\u001b[0m\u001b[0;34m\u001b[0m\u001b[0m\n",
            "\u001b[0;32m/usr/local/lib/python3.11/dist-packages/rl/agents/dqn.py\u001b[0m in \u001b[0;36mforward\u001b[0;34m(self, observation)\u001b[0m\n\u001b[1;32m    222\u001b[0m         \u001b[0;31m# Select an action.\u001b[0m\u001b[0;34m\u001b[0m\u001b[0;34m\u001b[0m\u001b[0m\n\u001b[1;32m    223\u001b[0m         \u001b[0mstate\u001b[0m \u001b[0;34m=\u001b[0m \u001b[0mself\u001b[0m\u001b[0;34m.\u001b[0m\u001b[0mmemory\u001b[0m\u001b[0;34m.\u001b[0m\u001b[0mget_recent_state\u001b[0m\u001b[0;34m(\u001b[0m\u001b[0mobservation\u001b[0m\u001b[0;34m)\u001b[0m\u001b[0;34m\u001b[0m\u001b[0;34m\u001b[0m\u001b[0m\n\u001b[0;32m--> 224\u001b[0;31m         \u001b[0mq_values\u001b[0m \u001b[0;34m=\u001b[0m \u001b[0mself\u001b[0m\u001b[0;34m.\u001b[0m\u001b[0mcompute_q_values\u001b[0m\u001b[0;34m(\u001b[0m\u001b[0mstate\u001b[0m\u001b[0;34m)\u001b[0m\u001b[0;34m\u001b[0m\u001b[0;34m\u001b[0m\u001b[0m\n\u001b[0m\u001b[1;32m    225\u001b[0m         \u001b[0;32mif\u001b[0m \u001b[0mself\u001b[0m\u001b[0;34m.\u001b[0m\u001b[0mtraining\u001b[0m\u001b[0;34m:\u001b[0m\u001b[0;34m\u001b[0m\u001b[0;34m\u001b[0m\u001b[0m\n\u001b[1;32m    226\u001b[0m             \u001b[0maction\u001b[0m \u001b[0;34m=\u001b[0m \u001b[0mself\u001b[0m\u001b[0;34m.\u001b[0m\u001b[0mpolicy\u001b[0m\u001b[0;34m.\u001b[0m\u001b[0mselect_action\u001b[0m\u001b[0;34m(\u001b[0m\u001b[0mq_values\u001b[0m\u001b[0;34m=\u001b[0m\u001b[0mq_values\u001b[0m\u001b[0;34m)\u001b[0m\u001b[0;34m\u001b[0m\u001b[0;34m\u001b[0m\u001b[0m\n",
            "\u001b[0;32m/usr/local/lib/python3.11/dist-packages/rl/agents/dqn.py\u001b[0m in \u001b[0;36mcompute_q_values\u001b[0;34m(self, state)\u001b[0m\n\u001b[1;32m     66\u001b[0m \u001b[0;34m\u001b[0m\u001b[0m\n\u001b[1;32m     67\u001b[0m     \u001b[0;32mdef\u001b[0m \u001b[0mcompute_q_values\u001b[0m\u001b[0;34m(\u001b[0m\u001b[0mself\u001b[0m\u001b[0;34m,\u001b[0m \u001b[0mstate\u001b[0m\u001b[0;34m)\u001b[0m\u001b[0;34m:\u001b[0m\u001b[0;34m\u001b[0m\u001b[0;34m\u001b[0m\u001b[0m\n\u001b[0;32m---> 68\u001b[0;31m         \u001b[0mq_values\u001b[0m \u001b[0;34m=\u001b[0m \u001b[0mself\u001b[0m\u001b[0;34m.\u001b[0m\u001b[0mcompute_batch_q_values\u001b[0m\u001b[0;34m(\u001b[0m\u001b[0;34m[\u001b[0m\u001b[0mstate\u001b[0m\u001b[0;34m]\u001b[0m\u001b[0;34m)\u001b[0m\u001b[0;34m.\u001b[0m\u001b[0mflatten\u001b[0m\u001b[0;34m(\u001b[0m\u001b[0;34m)\u001b[0m\u001b[0;34m\u001b[0m\u001b[0;34m\u001b[0m\u001b[0m\n\u001b[0m\u001b[1;32m     69\u001b[0m         \u001b[0;32massert\u001b[0m \u001b[0mq_values\u001b[0m\u001b[0;34m.\u001b[0m\u001b[0mshape\u001b[0m \u001b[0;34m==\u001b[0m \u001b[0;34m(\u001b[0m\u001b[0mself\u001b[0m\u001b[0;34m.\u001b[0m\u001b[0mnb_actions\u001b[0m\u001b[0;34m,\u001b[0m\u001b[0;34m)\u001b[0m\u001b[0;34m\u001b[0m\u001b[0;34m\u001b[0m\u001b[0m\n\u001b[1;32m     70\u001b[0m         \u001b[0;32mreturn\u001b[0m \u001b[0mq_values\u001b[0m\u001b[0;34m\u001b[0m\u001b[0;34m\u001b[0m\u001b[0m\n",
            "\u001b[0;32m/usr/local/lib/python3.11/dist-packages/rl/agents/dqn.py\u001b[0m in \u001b[0;36mcompute_batch_q_values\u001b[0;34m(self, state_batch)\u001b[0m\n\u001b[1;32m     61\u001b[0m     \u001b[0;32mdef\u001b[0m \u001b[0mcompute_batch_q_values\u001b[0m\u001b[0;34m(\u001b[0m\u001b[0mself\u001b[0m\u001b[0;34m,\u001b[0m \u001b[0mstate_batch\u001b[0m\u001b[0;34m)\u001b[0m\u001b[0;34m:\u001b[0m\u001b[0;34m\u001b[0m\u001b[0;34m\u001b[0m\u001b[0m\n\u001b[1;32m     62\u001b[0m         \u001b[0mbatch\u001b[0m \u001b[0;34m=\u001b[0m \u001b[0mself\u001b[0m\u001b[0;34m.\u001b[0m\u001b[0mprocess_state_batch\u001b[0m\u001b[0;34m(\u001b[0m\u001b[0mstate_batch\u001b[0m\u001b[0;34m)\u001b[0m\u001b[0;34m\u001b[0m\u001b[0;34m\u001b[0m\u001b[0m\n\u001b[0;32m---> 63\u001b[0;31m         \u001b[0mq_values\u001b[0m \u001b[0;34m=\u001b[0m \u001b[0mself\u001b[0m\u001b[0;34m.\u001b[0m\u001b[0mmodel\u001b[0m\u001b[0;34m.\u001b[0m\u001b[0mpredict_on_batch\u001b[0m\u001b[0;34m(\u001b[0m\u001b[0mbatch\u001b[0m\u001b[0;34m)\u001b[0m\u001b[0;34m\u001b[0m\u001b[0;34m\u001b[0m\u001b[0m\n\u001b[0m\u001b[1;32m     64\u001b[0m         \u001b[0;32massert\u001b[0m \u001b[0mq_values\u001b[0m\u001b[0;34m.\u001b[0m\u001b[0mshape\u001b[0m \u001b[0;34m==\u001b[0m \u001b[0;34m(\u001b[0m\u001b[0mlen\u001b[0m\u001b[0;34m(\u001b[0m\u001b[0mstate_batch\u001b[0m\u001b[0;34m)\u001b[0m\u001b[0;34m,\u001b[0m \u001b[0mself\u001b[0m\u001b[0;34m.\u001b[0m\u001b[0mnb_actions\u001b[0m\u001b[0;34m)\u001b[0m\u001b[0;34m\u001b[0m\u001b[0;34m\u001b[0m\u001b[0m\n\u001b[1;32m     65\u001b[0m         \u001b[0;32mreturn\u001b[0m \u001b[0mq_values\u001b[0m\u001b[0;34m\u001b[0m\u001b[0;34m\u001b[0m\u001b[0m\n",
            "\u001b[0;32m/usr/local/lib/python3.11/dist-packages/keras/src/engine/training_v1.py\u001b[0m in \u001b[0;36mpredict_on_batch\u001b[0;34m(self, x)\u001b[0m\n\u001b[1;32m   1319\u001b[0m \u001b[0;34m\u001b[0m\u001b[0m\n\u001b[1;32m   1320\u001b[0m         \u001b[0mself\u001b[0m\u001b[0;34m.\u001b[0m\u001b[0m_make_predict_function\u001b[0m\u001b[0;34m(\u001b[0m\u001b[0;34m)\u001b[0m\u001b[0;34m\u001b[0m\u001b[0;34m\u001b[0m\u001b[0m\n\u001b[0;32m-> 1321\u001b[0;31m         \u001b[0moutputs\u001b[0m \u001b[0;34m=\u001b[0m \u001b[0mself\u001b[0m\u001b[0;34m.\u001b[0m\u001b[0mpredict_function\u001b[0m\u001b[0;34m(\u001b[0m\u001b[0minputs\u001b[0m\u001b[0;34m)\u001b[0m\u001b[0;34m\u001b[0m\u001b[0;34m\u001b[0m\u001b[0m\n\u001b[0m\u001b[1;32m   1322\u001b[0m \u001b[0;34m\u001b[0m\u001b[0m\n\u001b[1;32m   1323\u001b[0m         \u001b[0;32mif\u001b[0m \u001b[0mlen\u001b[0m\u001b[0;34m(\u001b[0m\u001b[0moutputs\u001b[0m\u001b[0;34m)\u001b[0m \u001b[0;34m==\u001b[0m \u001b[0;36m1\u001b[0m\u001b[0;34m:\u001b[0m\u001b[0;34m\u001b[0m\u001b[0;34m\u001b[0m\u001b[0m\n",
            "\u001b[0;32m/usr/local/lib/python3.11/dist-packages/keras/src/backend.py\u001b[0m in \u001b[0;36m__call__\u001b[0;34m(self, inputs)\u001b[0m\n\u001b[1;32m   4605\u001b[0m             \u001b[0mself\u001b[0m\u001b[0;34m.\u001b[0m\u001b[0m_make_callable\u001b[0m\u001b[0;34m(\u001b[0m\u001b[0mfeed_arrays\u001b[0m\u001b[0;34m,\u001b[0m \u001b[0mfeed_symbols\u001b[0m\u001b[0;34m,\u001b[0m \u001b[0msymbol_vals\u001b[0m\u001b[0;34m,\u001b[0m \u001b[0msession\u001b[0m\u001b[0;34m)\u001b[0m\u001b[0;34m\u001b[0m\u001b[0;34m\u001b[0m\u001b[0m\n\u001b[1;32m   4606\u001b[0m \u001b[0;34m\u001b[0m\u001b[0m\n\u001b[0;32m-> 4607\u001b[0;31m         \u001b[0mfetched\u001b[0m \u001b[0;34m=\u001b[0m \u001b[0mself\u001b[0m\u001b[0;34m.\u001b[0m\u001b[0m_callable_fn\u001b[0m\u001b[0;34m(\u001b[0m\u001b[0;34m*\u001b[0m\u001b[0marray_vals\u001b[0m\u001b[0;34m,\u001b[0m \u001b[0mrun_metadata\u001b[0m\u001b[0;34m=\u001b[0m\u001b[0mself\u001b[0m\u001b[0;34m.\u001b[0m\u001b[0mrun_metadata\u001b[0m\u001b[0;34m)\u001b[0m\u001b[0;34m\u001b[0m\u001b[0;34m\u001b[0m\u001b[0m\n\u001b[0m\u001b[1;32m   4608\u001b[0m         \u001b[0mself\u001b[0m\u001b[0;34m.\u001b[0m\u001b[0m_call_fetch_callbacks\u001b[0m\u001b[0;34m(\u001b[0m\u001b[0mfetched\u001b[0m\u001b[0;34m[\u001b[0m\u001b[0;34m-\u001b[0m\u001b[0mlen\u001b[0m\u001b[0;34m(\u001b[0m\u001b[0mself\u001b[0m\u001b[0;34m.\u001b[0m\u001b[0m_fetches\u001b[0m\u001b[0;34m)\u001b[0m \u001b[0;34m:\u001b[0m\u001b[0;34m]\u001b[0m\u001b[0;34m)\u001b[0m\u001b[0;34m\u001b[0m\u001b[0;34m\u001b[0m\u001b[0m\n\u001b[1;32m   4609\u001b[0m         output_structure = tf.nest.pack_sequence_as(\n",
            "\u001b[0;32m/usr/local/lib/python3.11/dist-packages/tensorflow/python/client/session.py\u001b[0m in \u001b[0;36m__call__\u001b[0;34m(self, *args, **kwargs)\u001b[0m\n\u001b[1;32m   1503\u001b[0m       \u001b[0;32mtry\u001b[0m\u001b[0;34m:\u001b[0m\u001b[0;34m\u001b[0m\u001b[0;34m\u001b[0m\u001b[0m\n\u001b[1;32m   1504\u001b[0m         \u001b[0mrun_metadata_ptr\u001b[0m \u001b[0;34m=\u001b[0m \u001b[0mtf_session\u001b[0m\u001b[0;34m.\u001b[0m\u001b[0mTF_NewBuffer\u001b[0m\u001b[0;34m(\u001b[0m\u001b[0;34m)\u001b[0m \u001b[0;32mif\u001b[0m \u001b[0mrun_metadata\u001b[0m \u001b[0;32melse\u001b[0m \u001b[0;32mNone\u001b[0m\u001b[0;34m\u001b[0m\u001b[0;34m\u001b[0m\u001b[0m\n\u001b[0;32m-> 1505\u001b[0;31m         ret = tf_session.TF_SessionRunCallable(self._session._session,\n\u001b[0m\u001b[1;32m   1506\u001b[0m                                                \u001b[0mself\u001b[0m\u001b[0;34m.\u001b[0m\u001b[0m_handle\u001b[0m\u001b[0;34m,\u001b[0m \u001b[0margs\u001b[0m\u001b[0;34m,\u001b[0m\u001b[0;34m\u001b[0m\u001b[0;34m\u001b[0m\u001b[0m\n\u001b[1;32m   1507\u001b[0m                                                run_metadata_ptr)\n",
            "\u001b[0;31mKeyboardInterrupt\u001b[0m: "
          ]
        }
      ]
    },
    {
      "cell_type": "code",
      "execution_count": 11,
      "metadata": {
        "id": "OHYryKd1Gb2b",
        "outputId": "b1280bda-f7bc-4c67-a77b-2b9d6d0c25ce",
        "colab": {
          "base_uri": "https://localhost:8080/"
        }
      },
      "outputs": [
        {
          "output_type": "stream",
          "name": "stdout",
          "text": [
            "Testing for 10 episodes ...\n",
            "Episode 1: reward: 9.000, steps: 724\n",
            "Episode 2: reward: 8.000, steps: 634\n",
            "Episode 3: reward: 12.000, steps: 608\n",
            "Episode 4: reward: 7.000, steps: 382\n",
            "Episode 5: reward: 19.000, steps: 998\n",
            "Episode 6: reward: 13.000, steps: 526\n",
            "Episode 7: reward: 8.000, steps: 524\n",
            "Episode 8: reward: 20.000, steps: 989\n",
            "Episode 9: reward: 14.000, steps: 721\n",
            "Episode 10: reward: 23.000, steps: 1006\n"
          ]
        },
        {
          "output_type": "execute_result",
          "data": {
            "text/plain": [
              "<keras.src.callbacks.History at 0x78709774dd90>"
            ]
          },
          "metadata": {},
          "execution_count": 11
        }
      ],
      "source": [
        "# Testing part to calculate the mean reward\n",
        "weights_filename = 'Copia de dqn_SpaceInvaders-v0_weights_base_450000600000.h5f'.format(env_name)\n",
        "dqn.load_weights(weights_filename)\n",
        "dqn.test(env, nb_episodes=10, visualize=False)"
      ]
    },
    {
      "cell_type": "markdown",
      "metadata": {
        "id": "-NAlu8b1Gb2b"
      },
      "source": [
        "3. Justificación de los parámetros seleccionados y de los resultados obtenidos"
      ]
    },
    {
      "cell_type": "markdown",
      "source": [
        "---"
      ],
      "metadata": {
        "id": "ANFQiicXK3sO"
      }
    }
  ],
  "metadata": {
    "kernelspec": {
      "display_name": "Python 3",
      "language": "python",
      "name": "python3"
    },
    "language_info": {
      "codemirror_mode": {
        "name": "ipython",
        "version": 3
      },
      "file_extension": ".py",
      "mimetype": "text/x-python",
      "name": "python",
      "nbconvert_exporter": "python",
      "pygments_lexer": "ipython3",
      "version": "3.7.9"
    },
    "colab": {
      "provenance": []
    }
  },
  "nbformat": 4,
  "nbformat_minor": 0
}